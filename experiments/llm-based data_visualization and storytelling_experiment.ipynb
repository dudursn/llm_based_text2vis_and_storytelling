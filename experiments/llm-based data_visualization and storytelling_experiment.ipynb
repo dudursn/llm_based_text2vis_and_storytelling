{
 "cells": [
  {
   "cell_type": "code",
   "execution_count": null,
   "id": "3fdf5566",
   "metadata": {},
   "outputs": [
    {
     "name": "stdout",
     "output_type": "stream",
     "text": [
      "The autoreload extension is already loaded. To reload it, use:\n",
      "  %reload_ext autoreload\n"
     ]
    },
    {
     "data": {
      "text/plain": [
       "True"
      ]
     },
     "execution_count": 119,
     "metadata": {},
     "output_type": "execute_result"
    }
   ],
   "source": [
    "\n",
    "%load_ext autoreload\n",
    "%autoreload 2\n",
    "\n",
    "import sys\n",
    "\n",
    "from pathlib import Path\n",
    "\n",
    "root_path = Path().resolve().parent\n",
    "sys.path.append(str(root_path))\n",
    "\n",
    "from langgraph.graph import StateGraph, START\n",
    "\n",
    "from typing import Literal\n",
    "\n",
    "from tools.text_to_vis_tool import TextToVis, VisTool\n",
    "\n",
    "from pydantic import BaseModel, Field\n",
    "\n",
    "from langchain_core.prompts import ChatPromptTemplate\n",
    "import os\n",
    "import pandas as pd\n",
    "from dotenv import load_dotenv\n",
    "from pathlib import Path\n",
    "\n",
    "from prompt_visualization_builder.VannaPromptVisualizationBuilder import (\n",
    "    VannaPromptVisualizationBuilder,\n",
    ")\n",
    "from langchain_core.messages import HumanMessage\n",
    "from functions.gptconfig import MODEL_4O, MODEL_35_TURBO, MODEL_O3_MINI\n",
    "from functions.langchain_utils import get_llm\n",
    "\n",
    "load_dotenv()\n"
   ]
  },
  {
   "cell_type": "code",
   "execution_count": 120,
   "id": "cf3b97cd",
   "metadata": {},
   "outputs": [],
   "source": [
    "BASE_DIR = Path().resolve().parent\n",
    "PARENT_DIR = os.path.dirname(os.path.dirname(os.getcwd()))\n",
    "DATASETS_DIR = BASE_DIR / \"datasets\""
   ]
  },
  {
   "cell_type": "code",
   "execution_count": 121,
   "id": "6ebfd876",
   "metadata": {},
   "outputs": [],
   "source": [
    "MODELS = [MODEL_4O, MODEL_35_TURBO, MODEL_O3_MINI]\n",
    "\n",
    "model = MODEL_4O"
   ]
  },
  {
   "cell_type": "markdown",
   "id": "0ed6fd1d",
   "metadata": {},
   "source": [
    "## Datasets"
   ]
  },
  {
   "cell_type": "code",
   "execution_count": 122,
   "id": "d42da502",
   "metadata": {},
   "outputs": [],
   "source": [
    "movies_dataset = pd.read_csv(f\"{DATASETS_DIR}/movies.csv\")"
   ]
  },
  {
   "cell_type": "code",
   "execution_count": 123,
   "id": "2dd974bb",
   "metadata": {},
   "outputs": [
    {
     "data": {
      "text/html": [
       "<div>\n",
       "<style scoped>\n",
       "    .dataframe tbody tr th:only-of-type {\n",
       "        vertical-align: middle;\n",
       "    }\n",
       "\n",
       "    .dataframe tbody tr th {\n",
       "        vertical-align: top;\n",
       "    }\n",
       "\n",
       "    .dataframe thead th {\n",
       "        text-align: right;\n",
       "    }\n",
       "</style>\n",
       "<table border=\"1\" class=\"dataframe\">\n",
       "  <thead>\n",
       "    <tr style=\"text-align: right;\">\n",
       "      <th></th>\n",
       "      <th>Title</th>\n",
       "      <th>Worldwide Gross</th>\n",
       "      <th>Production Budget</th>\n",
       "      <th>Release Year</th>\n",
       "      <th>Content Rating</th>\n",
       "      <th>Running Time</th>\n",
       "      <th>Genre</th>\n",
       "      <th>Creative Type</th>\n",
       "      <th>Rotten Tomatoes Rating</th>\n",
       "      <th>IMDB Rating</th>\n",
       "    </tr>\n",
       "  </thead>\n",
       "  <tbody>\n",
       "    <tr>\n",
       "      <th>0</th>\n",
       "      <td>From Dusk Till Dawn</td>\n",
       "      <td>25728961</td>\n",
       "      <td>20000000</td>\n",
       "      <td>1996</td>\n",
       "      <td>R</td>\n",
       "      <td>107</td>\n",
       "      <td>Horror</td>\n",
       "      <td>Fantasy</td>\n",
       "      <td>63</td>\n",
       "      <td>7.1</td>\n",
       "    </tr>\n",
       "    <tr>\n",
       "      <th>1</th>\n",
       "      <td>Broken Arrow</td>\n",
       "      <td>148345997</td>\n",
       "      <td>65000000</td>\n",
       "      <td>1996</td>\n",
       "      <td>R</td>\n",
       "      <td>108</td>\n",
       "      <td>Action</td>\n",
       "      <td>Contemporary Fiction</td>\n",
       "      <td>55</td>\n",
       "      <td>5.8</td>\n",
       "    </tr>\n",
       "    <tr>\n",
       "      <th>2</th>\n",
       "      <td>City Hall</td>\n",
       "      <td>20278055</td>\n",
       "      <td>40000000</td>\n",
       "      <td>1996</td>\n",
       "      <td>R</td>\n",
       "      <td>111</td>\n",
       "      <td>Drama</td>\n",
       "      <td>Contemporary Fiction</td>\n",
       "      <td>55</td>\n",
       "      <td>6.1</td>\n",
       "    </tr>\n",
       "  </tbody>\n",
       "</table>\n",
       "</div>"
      ],
      "text/plain": [
       "                 Title  Worldwide Gross  Production Budget  Release Year  \\\n",
       "0  From Dusk Till Dawn         25728961           20000000          1996   \n",
       "1         Broken Arrow        148345997           65000000          1996   \n",
       "2            City Hall         20278055           40000000          1996   \n",
       "\n",
       "  Content Rating  Running Time   Genre         Creative Type  \\\n",
       "0              R           107  Horror               Fantasy   \n",
       "1              R           108  Action  Contemporary Fiction   \n",
       "2              R           111   Drama  Contemporary Fiction   \n",
       "\n",
       "   Rotten Tomatoes Rating  IMDB Rating  \n",
       "0                      63          7.1  \n",
       "1                      55          5.8  \n",
       "2                      55          6.1  "
      ]
     },
     "execution_count": 123,
     "metadata": {},
     "output_type": "execute_result"
    }
   ],
   "source": [
    "movies_dataset.head(3)"
   ]
  },
  {
   "cell_type": "markdown",
   "id": "9276da96",
   "metadata": {},
   "source": [
    "## Tools"
   ]
  },
  {
   "cell_type": "code",
   "execution_count": null,
   "id": "8cf94880",
   "metadata": {},
   "outputs": [],
   "source": [
    "prompt_builder_vanna = VannaPromptVisualizationBuilder()\n",
    "text_to_vis_vanna = TextToVis(\n",
    "    llm=get_llm(model=model),\n",
    "    prompt_builder=prompt_builder_vanna,\n",
    "    model_type=model\n",
    ")\n"
   ]
  },
  {
   "cell_type": "code",
   "execution_count": null,
   "id": "aa22a69c",
   "metadata": {},
   "outputs": [],
   "source": [
    "\n",
    "vanna_vis_tool = VisTool() \n",
    "\n",
    "if hasattr(vanna_vis_tool, \"text_to_vis\"):\n",
    "    vanna_vis_tool.text_to_vis = text_to_vis_vanna\n",
    "    \n",
    "\n",
    "TOOLS = [vanna_vis_tool]"
   ]
  },
  {
   "cell_type": "code",
   "execution_count": null,
   "id": "c7a6ca1d",
   "metadata": {},
   "outputs": [
    {
     "name": "stdout",
     "output_type": "stream",
     "text": [
      "vanna\n"
     ]
    }
   ],
   "source": [
    "\n",
    "print(vanna_vis_tool.text_to_vis.prompt_builder)"
   ]
  },
  {
   "cell_type": "code",
   "execution_count": null,
   "id": "99931513",
   "metadata": {},
   "outputs": [
    {
     "data": {
      "text/plain": [
       "['vanna']"
      ]
     },
     "execution_count": 128,
     "metadata": {},
     "output_type": "execute_result"
    }
   ],
   "source": [
    "\n",
    "VIS_STRATEGIES = [str(vanna_vis_tool.text_to_vis.prompt_builder)]\n",
    "VIS_STRATEGIES"
   ]
  },
  {
   "cell_type": "markdown",
   "id": "f845bfe9",
   "metadata": {},
   "source": [
    "## Tools test"
   ]
  },
  {
   "cell_type": "code",
   "execution_count": 15,
   "id": "cd55c8c6",
   "metadata": {},
   "outputs": [
    {
     "name": "stdout",
     "output_type": "stream",
     "text": [
      "------------------------------\n",
      "Vanna Visualization Strategy\n"
     ]
    }
   ],
   "source": [
    "result2 = vanna_vis_tool._run(\"number movies Released by Year\", movies_dataset)"
   ]
  },
  {
   "cell_type": "code",
   "execution_count": 16,
   "id": "33d5ffba",
   "metadata": {},
   "outputs": [
    {
     "name": "stdout",
     "output_type": "stream",
     "text": [
      "import streamlit as st\n",
      "import pandas as pd\n",
      "df = df.copy()\n",
      "import plotly.express as px\n",
      "import streamlit as st\n",
      "import pandas as pd\n",
      "df = df.copy()\n",
      "\n",
      "if df['Release Year'].nunique() == 1:\n",
      "    single_value = df['Release Year'].iloc[0]\n",
      "    fig = px.indicator.Indicator(\n",
      "        mode=\"number\",\n",
      "        value=single_value,\n",
      "        title=\"Number of Movies Released in the Year\"\n",
      "    )\n",
      "else:\n",
      "    year_counts = df['Release Year'].value_counts().reset_index()\n",
      "    year_counts.columns = ['Release Year', 'Number of Movies']\n",
      "    year_counts = year_counts.sort_values('Release Year')\n",
      "    fig = px.bar(\n",
      "        year_counts,\n",
      "        x='Release Year',\n",
      "        y='Number of Movies',\n",
      "        title='Number of Movies Released by Year',\n",
      "        labels={'Release Year': 'Year', 'Number of Movies': 'Movies Released'}\n",
      "    )\n",
      "\n",
      "st.plotly_chart(fig)\n"
     ]
    }
   ],
   "source": [
    "print(result2.get(\"code_generated\"))"
   ]
  },
  {
   "cell_type": "code",
   "execution_count": 17,
   "id": "d2717608",
   "metadata": {},
   "outputs": [
    {
     "data": {
      "application/vnd.plotly.v1+json": {
       "config": {
        "plotlyServerURL": "https://plot.ly"
       },
       "data": [
        {
         "alignmentgroup": "True",
         "hovertemplate": "Year=%{x}<br>Movies Released=%{y}<extra></extra>",
         "legendgroup": "",
         "marker": {
          "color": "#000001",
          "pattern": {
           "shape": ""
          }
         },
         "name": "",
         "offsetgroup": "",
         "orientation": "v",
         "showlegend": false,
         "textposition": "auto",
         "type": "bar",
         "x": [
          1996,
          1997,
          1998,
          1999,
          2000,
          2001,
          2002,
          2003,
          2004,
          2005,
          2006,
          2007,
          2008,
          2009,
          2010
         ],
         "xaxis": "x",
         "y": [
          49,
          42,
          52,
          63,
          65,
          57,
          52,
          58,
          57,
          37,
          40,
          59,
          39,
          34,
          5
         ],
         "yaxis": "y"
        }
       ],
       "layout": {
        "barmode": "relative",
        "legend": {
         "tracegroupgap": 0
        },
        "template": {
         "data": {
          "candlestick": [
           {
            "decreasing": {
             "line": {
              "color": "#000033"
             }
            },
            "increasing": {
             "line": {
              "color": "#000032"
             }
            },
            "type": "candlestick"
           }
          ],
          "contour": [
           {
            "colorscale": [
             [
              0,
              "#000011"
             ],
             [
              0.1111111111111111,
              "#000012"
             ],
             [
              0.2222222222222222,
              "#000013"
             ],
             [
              0.3333333333333333,
              "#000014"
             ],
             [
              0.4444444444444444,
              "#000015"
             ],
             [
              0.5555555555555556,
              "#000016"
             ],
             [
              0.6666666666666666,
              "#000017"
             ],
             [
              0.7777777777777778,
              "#000018"
             ],
             [
              0.8888888888888888,
              "#000019"
             ],
             [
              1,
              "#000020"
             ]
            ],
            "type": "contour"
           }
          ],
          "contourcarpet": [
           {
            "colorscale": [
             [
              0,
              "#000011"
             ],
             [
              0.1111111111111111,
              "#000012"
             ],
             [
              0.2222222222222222,
              "#000013"
             ],
             [
              0.3333333333333333,
              "#000014"
             ],
             [
              0.4444444444444444,
              "#000015"
             ],
             [
              0.5555555555555556,
              "#000016"
             ],
             [
              0.6666666666666666,
              "#000017"
             ],
             [
              0.7777777777777778,
              "#000018"
             ],
             [
              0.8888888888888888,
              "#000019"
             ],
             [
              1,
              "#000020"
             ]
            ],
            "type": "contourcarpet"
           }
          ],
          "heatmap": [
           {
            "colorscale": [
             [
              0,
              "#000011"
             ],
             [
              0.1111111111111111,
              "#000012"
             ],
             [
              0.2222222222222222,
              "#000013"
             ],
             [
              0.3333333333333333,
              "#000014"
             ],
             [
              0.4444444444444444,
              "#000015"
             ],
             [
              0.5555555555555556,
              "#000016"
             ],
             [
              0.6666666666666666,
              "#000017"
             ],
             [
              0.7777777777777778,
              "#000018"
             ],
             [
              0.8888888888888888,
              "#000019"
             ],
             [
              1,
              "#000020"
             ]
            ],
            "type": "heatmap"
           }
          ],
          "histogram2d": [
           {
            "colorscale": [
             [
              0,
              "#000011"
             ],
             [
              0.1111111111111111,
              "#000012"
             ],
             [
              0.2222222222222222,
              "#000013"
             ],
             [
              0.3333333333333333,
              "#000014"
             ],
             [
              0.4444444444444444,
              "#000015"
             ],
             [
              0.5555555555555556,
              "#000016"
             ],
             [
              0.6666666666666666,
              "#000017"
             ],
             [
              0.7777777777777778,
              "#000018"
             ],
             [
              0.8888888888888888,
              "#000019"
             ],
             [
              1,
              "#000020"
             ]
            ],
            "type": "histogram2d"
           }
          ],
          "icicle": [
           {
            "textfont": {
             "color": "white"
            },
            "type": "icicle"
           }
          ],
          "sankey": [
           {
            "textfont": {
             "color": "#000036"
            },
            "type": "sankey"
           }
          ],
          "scatter": [
           {
            "marker": {
             "line": {
              "width": 0
             }
            },
            "type": "scatter"
           }
          ],
          "table": [
           {
            "cells": {
             "fill": {
              "color": "#000038"
             },
             "font": {
              "color": "#000037"
             },
             "line": {
              "color": "#000039"
             }
            },
            "header": {
             "fill": {
              "color": "#000040"
             },
             "font": {
              "color": "#000036"
             },
             "line": {
              "color": "#000039"
             }
            },
            "type": "table"
           }
          ],
          "waterfall": [
           {
            "connector": {
             "line": {
              "color": "#000036",
              "width": 2
             }
            },
            "decreasing": {
             "marker": {
              "color": "#000033"
             }
            },
            "increasing": {
             "marker": {
              "color": "#000032"
             }
            },
            "totals": {
             "marker": {
              "color": "#000034"
             }
            },
            "type": "waterfall"
           }
          ]
         },
         "layout": {
          "coloraxis": {
           "colorscale": [
            [
             0,
             "#000011"
            ],
            [
             0.1111111111111111,
             "#000012"
            ],
            [
             0.2222222222222222,
             "#000013"
            ],
            [
             0.3333333333333333,
             "#000014"
            ],
            [
             0.4444444444444444,
             "#000015"
            ],
            [
             0.5555555555555556,
             "#000016"
            ],
            [
             0.6666666666666666,
             "#000017"
            ],
            [
             0.7777777777777778,
             "#000018"
            ],
            [
             0.8888888888888888,
             "#000019"
            ],
            [
             1,
             "#000020"
            ]
           ]
          },
          "colorscale": {
           "diverging": [
            [
             0,
             "#000021"
            ],
            [
             0.1,
             "#000022"
            ],
            [
             0.2,
             "#000023"
            ],
            [
             0.3,
             "#000024"
            ],
            [
             0.4,
             "#000025"
            ],
            [
             0.5,
             "#000026"
            ],
            [
             0.6,
             "#000027"
            ],
            [
             0.7,
             "#000028"
            ],
            [
             0.8,
             "#000029"
            ],
            [
             0.9,
             "#000030"
            ],
            [
             1,
             "#000031"
            ]
           ],
           "sequential": [
            [
             0,
             "#000011"
            ],
            [
             0.1111111111111111,
             "#000012"
            ],
            [
             0.2222222222222222,
             "#000013"
            ],
            [
             0.3333333333333333,
             "#000014"
            ],
            [
             0.4444444444444444,
             "#000015"
            ],
            [
             0.5555555555555556,
             "#000016"
            ],
            [
             0.6666666666666666,
             "#000017"
            ],
            [
             0.7777777777777778,
             "#000018"
            ],
            [
             0.8888888888888888,
             "#000019"
            ],
            [
             1,
             "#000020"
            ]
           ],
           "sequentialminus": [
            [
             0,
             "#000011"
            ],
            [
             0.1111111111111111,
             "#000012"
            ],
            [
             0.2222222222222222,
             "#000013"
            ],
            [
             0.3333333333333333,
             "#000014"
            ],
            [
             0.4444444444444444,
             "#000015"
            ],
            [
             0.5555555555555556,
             "#000016"
            ],
            [
             0.6666666666666666,
             "#000017"
            ],
            [
             0.7777777777777778,
             "#000018"
            ],
            [
             0.8888888888888888,
             "#000019"
            ],
            [
             1,
             "#000020"
            ]
           ]
          },
          "colorway": [
           "#000001",
           "#000002",
           "#000003",
           "#000004",
           "#000005",
           "#000006",
           "#000007",
           "#000008",
           "#000009",
           "#000010"
          ]
         }
        },
        "title": {
         "text": "Number of Movies Released by Year"
        },
        "xaxis": {
         "anchor": "y",
         "domain": [
          0,
          1
         ],
         "title": {
          "text": "Year"
         }
        },
        "yaxis": {
         "anchor": "x",
         "domain": [
          0,
          1
         ],
         "title": {
          "text": "Movies Released"
         }
        }
       }
      }
     },
     "metadata": {},
     "output_type": "display_data"
    }
   ],
   "source": [
    "result2.get(\"fig\")"
   ]
  },
  {
   "cell_type": "markdown",
   "id": "a5c8a2d3",
   "metadata": {},
   "source": [
    "## Question Clarifier"
   ]
  },
  {
   "cell_type": "code",
   "execution_count": 148,
   "id": "2a35d947",
   "metadata": {},
   "outputs": [],
   "source": [
    "\n",
    "class ClarifiedQuery(BaseModel):\n",
    "    \"\"\"Clarify the user's query.\"\"\"\n",
    "    clarified_question: str = Field(\n",
    "        description=\"The user query clarified\",\n",
    "    )\n",
    "    final_decision: Literal[\"yes\", \"no\"] = Field (\n",
    "        description=\"If the query is clear, put \\\"yes\\\", if not, put \\\"no\\\"\"\n",
    "    )\n",
    " \n",
    "    \n",
    "llm = get_llm(model=MODEL_4O, temperature=0)\n",
    "\n",
    "structured_llm_clarifier = llm.with_structured_output(ClarifiedQuery)\n",
    "\n",
    "with open('../prompts/question_clarifier_prompt.txt', 'r') as file:\n",
    "    system = file.read()      \n",
    "\n",
    "clarify_prompt = ChatPromptTemplate.from_messages(\n",
    "    [\n",
    "        (\"system\", system),\n",
    "        (\"human\", \"the user's question: {question}\"),\n",
    "    ]\n",
    ")\n",
    "\n",
    "question_clarifier = clarify_prompt | structured_llm_clarifier"
   ]
  },
  {
   "cell_type": "code",
   "execution_count": 19,
   "id": "a2b04275",
   "metadata": {},
   "outputs": [
    {
     "data": {
      "text/plain": [
       "ClarifiedQuery(clarified_question=\"Your question is unclear. Could you specify what 'this' refers to? Are you asking about a specific dataset, metric, or context?\", final_decision='no')"
      ]
     },
     "execution_count": 19,
     "metadata": {},
     "output_type": "execute_result"
    }
   ],
   "source": [
    "question_clarifier.invoke({\"question\": \"What is this?\"})"
   ]
  },
  {
   "cell_type": "code",
   "execution_count": 20,
   "id": "1c1ef23f",
   "metadata": {},
   "outputs": [
    {
     "data": {
      "text/plain": [
       "ClarifiedQuery(clarified_question='What is the capital city of Cuba?', final_decision='yes')"
      ]
     },
     "execution_count": 20,
     "metadata": {},
     "output_type": "execute_result"
    }
   ],
   "source": [
    "question_clarifier.invoke({\"question\": \"What is the capital of Cuba?\"})"
   ]
  },
  {
   "cell_type": "markdown",
   "id": "1143ce83",
   "metadata": {},
   "source": [
    "## Data StoryTelling"
   ]
  },
  {
   "cell_type": "code",
   "execution_count": null,
   "id": "7487874c",
   "metadata": {},
   "outputs": [],
   "source": [
    "class DataStorytelling(BaseModel):\n",
    "    task: str = Field(..., description=\"Type of analysis task being performed, e.g., 'data_storytelling', 'trend_explanation'.\")\n",
    "    narrative: str = Field(..., description=\"Complete analysis including titles, sections, and narrative text.\")\n",
    "    \n",
    "def show_data_storytelling(dataStorytelling: DataStorytelling):\n",
    "    \"\"\"Display the markdown narrative.\"\"\"\n",
    "    from IPython.display import Markdown, display\n",
    "    display(Markdown(dataStorytelling.narrative))\n",
    "    \n",
    "\n",
    "llm = get_llm(model=MODEL_4O, max_tokens=1000, temperature=0)\n",
    "\n",
    "structured_llm_data_storytelling = llm.with_structured_output(DataStorytelling)\n",
    "\n",
    "with open('../prompts/data_storytelling_prompt.txt', 'r', encoding=\"utf-8\") as file:\n",
    "    data_storytelling_system = file.read()      \n",
    "# print(data_storytelling_system)\n",
    "data_storytelling_prompt = ChatPromptTemplate.from_messages(\n",
    "    [\n",
    "        (\"system\", data_storytelling_system),\n",
    "        (\"human\", \"User Input: {question}\\n\\nPython Code Used:\\n{code}\\nChart Generated:\\n{chart}\"),\n",
    "    ]\n",
    ")\n",
    "\n",
    "data_storytelling = data_storytelling_prompt | structured_llm_data_storytelling\n",
    "    "
   ]
  },
  {
   "cell_type": "code",
   "execution_count": 96,
   "id": "ed1f76a0",
   "metadata": {},
   "outputs": [
    {
     "data": {
      "text/markdown": [
       "## The Evolution of Movie Releases Over Time\n",
       "\n",
       "### Context: A Changing Industry\n",
       "The film industry has always been a reflection of cultural, technological, and economic shifts. By examining the number of movies released each year, we can uncover patterns that reveal how the industry has evolved over time.\n",
       "\n",
       "### The Challenge: A Sudden Decline\n",
       "From 1996 to 2010, the number of movies released annually showed a mix of growth and fluctuation. However, a striking anomaly emerges in the data: after a relatively stable period of releases, there is a sharp and dramatic drop in 2010, with only 5 movies released that year. This is a stark contrast to the preceding years, where releases ranged between 34 and 65 movies annually.\n",
       "\n",
       "### Insights from the Data\n",
       "- **Steady Growth and Fluctuations:** Between 1996 and 2009, the number of movies released each year fluctuated but remained within a consistent range, peaking at 65 movies in 2000.\n",
       "- **The 2010 Collapse:** The sudden drop to just 5 movies in 2010 is an outlier that demands further investigation. Possible explanations could include economic downturns, shifts in production strategies, or external disruptions like strikes or global events.\n",
       "\n",
       "### What This Means\n",
       "This data tells a story of resilience and growth in the film industry, punctuated by a dramatic and unexplained decline. Understanding the factors behind this drop could provide valuable lessons for navigating future challenges in the industry. Was it a one-time event, or does it signal a deeper trend? Further exploration is needed to uncover the full story."
      ],
      "text/plain": [
       "<IPython.core.display.Markdown object>"
      ]
     },
     "metadata": {},
     "output_type": "display_data"
    }
   ],
   "source": [
    "show_data_storytelling(result)"
   ]
  },
  {
   "cell_type": "markdown",
   "id": "e124a6dd",
   "metadata": {},
   "source": [
    "# Graph"
   ]
  },
  {
   "cell_type": "markdown",
   "id": "16c0c233",
   "metadata": {},
   "source": [
    "## State"
   ]
  },
  {
   "cell_type": "code",
   "execution_count": null,
   "id": "52c96606",
   "metadata": {},
   "outputs": [],
   "source": [
    "from typing_extensions import TypedDict\n",
    "import pandas as pd\n",
    "\n",
    "class State(TypedDict):\n",
    "    \"\"\"\n",
    "    Represents the state of the graph.\n",
    "\n",
    "    Attributes:\n",
    "        question: user query\n",
    "        clarify_decision: final decision of clarifier\n",
    "        clarified_question: user query clarified\n",
    "        dataset: the dataset containing the database result\n",
    "        code: dict containig the code and metadata generated by text to visualization  strategies\n",
    "        best_vis_strategy:  containig the best text to visualization strategy chosen by llm\n",
    "        narrative: the narrative generated by llm based on the chart, code and question\n",
    "    \"\"\"\n",
    "\n",
    "    question: str\n",
    "    clarifier_decision: str\n",
    "    clarified_question: str\n",
    "    dataset: pd.DataFrame       \n",
    "    codes: dict\n",
    "    best_vis_strategy: str\n",
    "    narrative: str"
   ]
  },
  {
   "cell_type": "markdown",
   "id": "267e5147",
   "metadata": {},
   "source": [
    "## Nodes"
   ]
  },
  {
   "cell_type": "code",
   "execution_count": null,
   "id": "a40523d9",
   "metadata": {},
   "outputs": [],
   "source": [
    "\n",
    "\n",
    "def clarify_question(state: State) -> State:\n",
    "    resp = question_clarifier.invoke({\"question\": state['question']})\n",
    "    clarifier_decision = f\"Final Decision: {resp.final_decision} - {resp.clarified_question}\"\n",
    "    print(\"[Clarifier Decision] \"+ clarifier_decision)\n",
    "    if resp.final_decision==\"yes\":\n",
    "        return {**state, \"clarified_question\": resp.clarified_question, \"clarifier_decision\": resp.final_decision}\n",
    "    else:\n",
    "        old_question = \"Old Question: \" + state[\"question\"]\n",
    "        clarifier_decision = \"Agent Feedback: \" + resp.clarified_question\n",
    "        agent_feedback = f\"{old_question}\\n{clarifier_decision}\"\n",
    "    \n",
    "    return {**state, \"question\": agent_feedback, \"clarifier_decision\": resp.final_decision}\n",
    "\n",
    "def ask_human_clarify(state: State) -> State:\n",
    "    q = state[\"question\"]\n",
    "    print(\"[NODE] Feedback human\")\n",
    "    human_response = interrupt(f\"Please clarify your question: \\\"{q}\\\"\")\n",
    "    new_information += \"\\nHuman Feedback:{human_response}\"\n",
    "    return {**state, \"question\": new_information}\n",
    "\n",
    "def node_vis(state: State) -> State:\n",
    "    print(\"[Text-to-VIS] - Query:\" + state[\"clarified_question\"])\n",
    "    dataset = state[\"dataset\"]\n",
    "    vis_tools = TOOLS[0:]\n",
    "    codes = {}\n",
    "    for vis_tool in vis_tools:\n",
    "        \n",
    "        code = vis_tool._run(\n",
    "            question=state[\"clarified_question\"],\n",
    "            df=dataset\n",
    "        )\n",
    "        codes[str(vis_tool.text_to_vis.prompt_builder)] = code\n",
    "    return {**state, \"codes\": codes}\n",
    "    \n",
    "def data_storyteller(state: State) -> State:\n",
    "    print(\"[Data Storytelling] - Generating narrative\")\n",
    "    state[\"best_vis_strategy\"] = 'vanna'\n",
    "    question = state[\"clarified_question\"]\n",
    "    code = state[\"codes\"][state[\"best_vis_strategy\"]].get(\"code_generated\")\n",
    "    chart = str(state[\"codes\"][state[\"best_vis_strategy\"]].get(\"fig\").layout) + \"\\n\" + str(state[\"codes\"][state[\"best_vis_strategy\"]].get(\"fig\").data)\n",
    "    # print(\"[Data Storytelling] - Question: \" + question)\n",
    "    # print(\"[Data Storytelling] - Code: \" + code)\n",
    "    # print(\"[Data Storytelling] - Chart: \" + str(chart))\n",
    "    result = data_storytelling.invoke({\"question\": question, \"code\": code, \"chart\": chart})\n",
    "    show_data_storytelling(result)\n",
    "    return {**state, \"narrative\": result}"
   ]
  },
  {
   "cell_type": "markdown",
   "id": "1999dfa8",
   "metadata": {},
   "source": [
    "### clarify question node test"
   ]
  },
  {
   "cell_type": "code",
   "execution_count": 26,
   "id": "a45279b9",
   "metadata": {},
   "outputs": [
    {
     "name": "stdout",
     "output_type": "stream",
     "text": [
      "[Clarifier Decision] Final Decision: yes - What is the capital city of Cuba?\n"
     ]
    },
    {
     "data": {
      "text/plain": [
       "{'question': 'What is capital of cuba?',\n",
       " 'clarified_question': 'What is the capital city of Cuba?',\n",
       " 'clarifier_decision': 'yes'}"
      ]
     },
     "execution_count": 26,
     "metadata": {},
     "output_type": "execute_result"
    }
   ],
   "source": [
    "agent_input = {\n",
    "    \"question\":\"What is capital of cuba?\",\n",
    "}\n",
    "clarify_question(agent_input)"
   ]
  },
  {
   "cell_type": "code",
   "execution_count": 27,
   "id": "2b5a4870",
   "metadata": {},
   "outputs": [
    {
     "name": "stdout",
     "output_type": "stream",
     "text": [
      "[Clarifier Decision] Final Decision: no - The question is too vague. Could you specify what you are referring to? For example, are you asking about a specific dataset, metric, or report?\n"
     ]
    },
    {
     "data": {
      "text/plain": [
       "{'question': 'Old Question: What is this?\\nAgent Feedback: The question is too vague. Could you specify what you are referring to? For example, are you asking about a specific dataset, metric, or report?',\n",
       " 'clarifier_decision': 'no'}"
      ]
     },
     "execution_count": 27,
     "metadata": {},
     "output_type": "execute_result"
    }
   ],
   "source": [
    "agent_input = {\n",
    "    \"question\":\"What is this?\",\n",
    "}\n",
    "clarify_question(agent_input)"
   ]
  },
  {
   "cell_type": "code",
   "execution_count": 28,
   "id": "17c2a17f",
   "metadata": {},
   "outputs": [
    {
     "name": "stdout",
     "output_type": "stream",
     "text": [
      "[Clarifier Decision] Final Decision: yes - What is the capital of Japan?\n"
     ]
    },
    {
     "data": {
      "text/plain": [
       "{'question': \"Old Question: What is this?\\nAgent FeedbackYour question is unclear. Could you specify what 'this' refers to? Are you asking about a specific dataset, metric, or something else\\nHuman Feedback:Capital of japan\",\n",
       " 'clarified_question': 'What is the capital of Japan?',\n",
       " 'clarifier_decision': 'yes'}"
      ]
     },
     "execution_count": 28,
     "metadata": {},
     "output_type": "execute_result"
    }
   ],
   "source": [
    "question_with_feedback = f\"Old Question: What is this?\\nAgent FeedbackYour question is unclear. Could you specify what 'this' refers to? Are you asking about a specific dataset, metric, or something else\\nHuman Feedback:Capital of japan\"\n",
    "\n",
    "agent_input = {\n",
    "    \"question\":question_with_feedback,\n",
    "}\n",
    "clarify_question(agent_input)"
   ]
  },
  {
   "cell_type": "markdown",
   "id": "99c90083",
   "metadata": {},
   "source": [
    "## Router"
   ]
  },
  {
   "cell_type": "code",
   "execution_count": 169,
   "id": "5f9c2b5e",
   "metadata": {},
   "outputs": [],
   "source": [
    "def router(state: State) -> Literal[\"clarify\", \"text_to_vis\", \"__end__\"]:\n",
    "    decision = \"__end__\"\n",
    "    if \"clarified_question\" not in state:\n",
    "        decision = \"clarify\"\n",
    "        if \"clarifier_decision\" in state and state[\"clarifier_decision\"] == \"no\":\n",
    "            decision = \"ask_human_clarify\"\n",
    "    elif \"code\" not in state:\n",
    "        decision = \"text_to_vis\"\n",
    "    elif \"narrative\" not in state:\n",
    "        decision = \"data_storyteller\"\n",
    "    print(\"[Router] Decision: \" + decision)\n",
    "    return decision\n"
   ]
  },
  {
   "cell_type": "markdown",
   "id": "f0836393",
   "metadata": {},
   "source": [
    "## Build Graph"
   ]
  },
  {
   "cell_type": "code",
   "execution_count": null,
   "id": "7194df91",
   "metadata": {},
   "outputs": [],
   "source": [
    "\n",
    "def build_graph() -> StateGraph:\n",
    "    \n",
    "    graph_builder = StateGraph(State)\n",
    "    graph_builder.add_node(\"Clarify Question\\n*LLM as Judge*\", clarify_question)\n",
    "    graph_builder.add_node(\"Text-to-VIS\", node_vis)\n",
    "    graph_builder.add_node(\"Human Feedback\", ask_human_clarify)\n",
    "    graph_builder.add_node(\"Data Storyteller\\n*LLM as Narrator*\", data_storyteller)\n",
    "      \n",
    "    graph_builder.add_conditional_edges(\n",
    "        \"Clarify Question\\n*LLM as Judge*\", \n",
    "        router, \n",
    "        {\n",
    "            \"text_to_vis\": \"Text-to-VIS\",\n",
    "            \"ask_human_clarify\": \"Human Feedback\",\n",
    "        }\n",
    "    )\n",
    "    \n",
    "    graph_builder.add_edge(\n",
    "        \"Human Feedback\", \n",
    "        \"Clarify Question\\n*LLM as Judge*\"\n",
    "    )\n",
    "        \n",
    "    graph_builder.add_edge(\n",
    "        \"Text-to-VIS\", \n",
    "        \"Data Storyteller\\n*LLM as Narrator*\"\n",
    "    )\n",
    "        \n",
    "    graph_builder.add_edge(\n",
    "        \"Data Storyteller\\n*LLM as Narrator*\", \n",
    "        \"__end__\"\n",
    "    )\n",
    "        \n",
    "    graph_builder.add_edge(START, \"Clarify Question\\n*LLM as Judge*\")\n",
    "    \n",
    "    return graph_builder.compile()\n",
    "\n",
    "graph = build_graph()\n",
    "\n",
    "def send(agent_input: State) -> State:\n",
    "    \"\"\"\n",
    "    This function is used to get the response from the agent.\n",
    "    \"\"\"\n",
    "    return graph.invoke(agent_input)"
   ]
  },
  {
   "cell_type": "code",
   "execution_count": 171,
   "id": "8f2a4a23",
   "metadata": {},
   "outputs": [
    {
     "data": {
      "image/png": "[encoded data removed]",
      "text/plain": [
       "<IPython.core.display.Image object>"
      ]
     },
     "metadata": {},
     "output_type": "display_data"
    }
   ],
   "source": [
    "from IPython.display import Image, display\n",
    "\n",
    "\n",
    "try:\n",
    "    display(Image(graph.get_graph().draw_mermaid_png()))\n",
    "except Exception:\n",
    "    # This requires some extra dependencies and is optional\n",
    "    pass"
   ]
  },
  {
   "cell_type": "code",
   "execution_count": 172,
   "id": "a4107a09",
   "metadata": {},
   "outputs": [],
   "source": [
    "def run_experiment(question, dataset):\n",
    "    agent_input = {\n",
    "        \"question\":question,\n",
    "        \"dataset\": dataset\n",
    "    }\n",
    "    while True:  \n",
    "        graph_result = send(agent_input)\n",
    "\n",
    "        if graph_result[\"clarifier_decision\"] == \"yes\":\n",
    "            break\n",
    "        else:\n",
    "            user_feedback = input(graph_result[\"question\"])\n",
    "            graph_result[\"question\"] += user_feedback \n",
    "            graph_result[\"clarifier_decision\"] = \"\"\n",
    "            agent_input = graph_result\n",
    "    return graph_result"
   ]
  },
  {
   "cell_type": "markdown",
   "id": "b5bc1772",
   "metadata": {},
   "source": [
    "## Experiments\n"
   ]
  },
  {
   "cell_type": "markdown",
   "id": "6d2cc79e",
   "metadata": {},
   "source": [
    "#### Case Study 1"
   ]
  },
  {
   "cell_type": "code",
   "execution_count": 175,
   "id": "3a1818c2",
   "metadata": {},
   "outputs": [
    {
     "name": "stdout",
     "output_type": "stream",
     "text": [
      "[Clarifier Decision] Final Decision: yes - How many movies were released each year, grouped by year?\n",
      "[Router] Decision: text_to_vis\n",
      "[Text-to-VIS] - Query:How many movies were released each year, grouped by year?\n",
      "------------------------------\n",
      "Vanna Visualization Strategy\n",
      "[Data Storytelling] - Generating narrative\n"
     ]
    },
    {
     "data": {
      "text/markdown": [
       "## The Evolution of Movie Releases Over Time\n",
       "\n",
       "### Context: A Changing Film Industry\n",
       "The film industry is a dynamic space, constantly influenced by technological advancements, audience preferences, and global events. Understanding how the number of movies released each year has changed can provide insights into broader industry trends and challenges.\n",
       "\n",
       "### Conflict: A Noticeable Decline in Recent Years\n",
       "The data reveals a fluctuating trend in movie releases from 1996 to 2010. While the late 1990s and early 2000s saw a steady increase in the number of movies released annually, peaking around 2000 with 65 films, the years following 2007 show a sharp decline. By 2010, the number of movies released plummeted to just 5—a dramatic drop that raises questions about what might have caused such a downturn.\n",
       "\n",
       "### Insights from the Data\n",
       "- **Growth Period (1996-2000):** The late 1990s experienced a consistent rise in movie releases, reflecting perhaps a booming industry or increased accessibility to filmmaking resources.\n",
       "- **Stability and Fluctuations (2001-2007):** The early 2000s maintained relatively stable numbers, with minor fluctuations, suggesting a period of consolidation in the industry.\n",
       "- **Sharp Decline (2008-2010):** The most striking trend is the steep drop in movie releases after 2007, culminating in an almost negligible output by 2010.\n",
       "\n",
       "### Hypotheses for the Decline\n",
       "- **Economic Factors:** The global financial crisis of 2008 may have severely impacted film production budgets and investments.\n",
       "- **Technological Shifts:** The rise of digital streaming platforms during this period could have disrupted traditional movie production and distribution models.\n",
       "- **Industry Saturation:** A potential oversaturation of the market in earlier years might have led to a pullback in production.\n",
       "\n",
       "### Conclusion: A Call for Further Exploration\n",
       "This data tells a story of growth, stability, and eventual decline in movie releases over a 15-year period. The sharp drop in the late 2000s warrants deeper investigation into the economic, technological, and cultural factors at play. Understanding these shifts can help industry stakeholders adapt and innovate for future growth."
      ],
      "text/plain": [
       "<IPython.core.display.Markdown object>"
      ]
     },
     "metadata": {},
     "output_type": "display_data"
    },
    {
     "name": "stderr",
     "output_type": "stream",
     "text": [
      "Exception while exporting Span.\n",
      "Traceback (most recent call last):\n",
      "  File \"c:\\Users\\rogerrsn\\AppData\\Local\\Programs\\Python\\Python310\\lib\\site-packages\\urllib3\\connection.py\", line 174, in _new_conn\n",
      "    conn = connection.create_connection(\n",
      "  File \"c:\\Users\\rogerrsn\\AppData\\Local\\Programs\\Python\\Python310\\lib\\site-packages\\urllib3\\util\\connection.py\", line 95, in create_connection\n",
      "    raise err\n",
      "  File \"c:\\Users\\rogerrsn\\AppData\\Local\\Programs\\Python\\Python310\\lib\\site-packages\\urllib3\\util\\connection.py\", line 85, in create_connection\n",
      "    sock.connect(sa)\n",
      "ConnectionRefusedError: [WinError 10061] No connection could be made because the target machine actively refused it\n",
      "\n",
      "During handling of the above exception, another exception occurred:\n",
      "\n",
      "Traceback (most recent call last):\n",
      "  File \"c:\\Users\\rogerrsn\\AppData\\Local\\Programs\\Python\\Python310\\lib\\site-packages\\urllib3\\connectionpool.py\", line 716, in urlopen\n",
      "    httplib_response = self._make_request(\n",
      "  File \"c:\\Users\\rogerrsn\\AppData\\Local\\Programs\\Python\\Python310\\lib\\site-packages\\urllib3\\connectionpool.py\", line 416, in _make_request\n",
      "    conn.request(method, url, **httplib_request_kw)\n",
      "  File \"c:\\Users\\rogerrsn\\AppData\\Local\\Programs\\Python\\Python310\\lib\\site-packages\\urllib3\\connection.py\", line 244, in request\n",
      "    super(HTTPConnection, self).request(method, url, body=body, headers=headers)\n",
      "  File \"c:\\Users\\rogerrsn\\AppData\\Local\\Programs\\Python\\Python310\\lib\\http\\client.py\", line 1282, in request\n",
      "    self._send_request(method, url, body, headers, encode_chunked)\n",
      "  File \"c:\\Users\\rogerrsn\\AppData\\Local\\Programs\\Python\\Python310\\lib\\http\\client.py\", line 1328, in _send_request\n",
      "    self.endheaders(body, encode_chunked=encode_chunked)\n",
      "  File \"c:\\Users\\rogerrsn\\AppData\\Local\\Programs\\Python\\Python310\\lib\\http\\client.py\", line 1277, in endheaders\n",
      "    self._send_output(message_body, encode_chunked=encode_chunked)\n",
      "  File \"c:\\Users\\rogerrsn\\AppData\\Local\\Programs\\Python\\Python310\\lib\\http\\client.py\", line 1037, in _send_output\n",
      "    self.send(msg)\n",
      "  File \"c:\\Users\\rogerrsn\\AppData\\Local\\Programs\\Python\\Python310\\lib\\http\\client.py\", line 975, in send\n",
      "    self.connect()\n",
      "  File \"c:\\Users\\rogerrsn\\AppData\\Local\\Programs\\Python\\Python310\\lib\\site-packages\\urllib3\\connection.py\", line 205, in connect\n",
      "    conn = self._new_conn()\n",
      "  File \"c:\\Users\\rogerrsn\\AppData\\Local\\Programs\\Python\\Python310\\lib\\site-packages\\urllib3\\connection.py\", line 186, in _new_conn\n",
      "    raise NewConnectionError(\n",
      "urllib3.exceptions.NewConnectionError: <urllib3.connection.HTTPConnection object at 0x0000025FA0631D20>: Failed to establish a new connection: [WinError 10061] No connection could be made because the target machine actively refused it\n",
      "\n",
      "During handling of the above exception, another exception occurred:\n",
      "\n",
      "Traceback (most recent call last):\n",
      "  File \"c:\\Users\\rogerrsn\\AppData\\Local\\Programs\\Python\\Python310\\lib\\site-packages\\requests\\adapters.py\", line 667, in send\n",
      "    resp = conn.urlopen(\n",
      "  File \"c:\\Users\\rogerrsn\\AppData\\Local\\Programs\\Python\\Python310\\lib\\site-packages\\urllib3\\connectionpool.py\", line 802, in urlopen\n",
      "    retries = retries.increment(\n",
      "  File \"c:\\Users\\rogerrsn\\AppData\\Local\\Programs\\Python\\Python310\\lib\\site-packages\\urllib3\\util\\retry.py\", line 594, in increment\n",
      "    raise MaxRetryError(_pool, url, error or ResponseError(cause))\n",
      "urllib3.exceptions.MaxRetryError: HTTPConnectionPool(host='localhost', port=3000): Max retries exceeded with url: /api/public/otel/v1/traces (Caused by NewConnectionError('<urllib3.connection.HTTPConnection object at 0x0000025FA0631D20>: Failed to establish a new connection: [WinError 10061] No connection could be made because the target machine actively refused it'))\n",
      "\n",
      "During handling of the above exception, another exception occurred:\n",
      "\n",
      "Traceback (most recent call last):\n",
      "  File \"c:\\Users\\rogerrsn\\AppData\\Local\\Programs\\Python\\Python310\\lib\\site-packages\\opentelemetry\\exporter\\otlp\\proto\\http\\trace_exporter\\__init__.py\", line 139, in _export\n",
      "    resp = self._session.post(\n",
      "  File \"c:\\Users\\rogerrsn\\AppData\\Local\\Programs\\Python\\Python310\\lib\\site-packages\\requests\\sessions.py\", line 637, in post\n",
      "    return self.request(\"POST\", url, data=data, json=json, **kwargs)\n",
      "  File \"c:\\Users\\rogerrsn\\AppData\\Local\\Programs\\Python\\Python310\\lib\\site-packages\\requests\\sessions.py\", line 589, in request\n",
      "    resp = self.send(prep, **send_kwargs)\n",
      "  File \"c:\\Users\\rogerrsn\\AppData\\Local\\Programs\\Python\\Python310\\lib\\site-packages\\requests\\sessions.py\", line 703, in send\n",
      "    r = adapter.send(request, **kwargs)\n",
      "  File \"c:\\Users\\rogerrsn\\AppData\\Local\\Programs\\Python\\Python310\\lib\\site-packages\\requests\\adapters.py\", line 700, in send\n",
      "    raise ConnectionError(e, request=request)\n",
      "requests.exceptions.ConnectionError: HTTPConnectionPool(host='localhost', port=3000): Max retries exceeded with url: /api/public/otel/v1/traces (Caused by NewConnectionError('<urllib3.connection.HTTPConnection object at 0x0000025FA0631D20>: Failed to establish a new connection: [WinError 10061] No connection could be made because the target machine actively refused it'))\n",
      "\n",
      "During handling of the above exception, another exception occurred:\n",
      "\n",
      "Traceback (most recent call last):\n",
      "  File \"c:\\Users\\rogerrsn\\AppData\\Local\\Programs\\Python\\Python310\\lib\\site-packages\\urllib3\\connection.py\", line 174, in _new_conn\n",
      "    conn = connection.create_connection(\n",
      "  File \"c:\\Users\\rogerrsn\\AppData\\Local\\Programs\\Python\\Python310\\lib\\site-packages\\urllib3\\util\\connection.py\", line 95, in create_connection\n",
      "    raise err\n",
      "  File \"c:\\Users\\rogerrsn\\AppData\\Local\\Programs\\Python\\Python310\\lib\\site-packages\\urllib3\\util\\connection.py\", line 85, in create_connection\n",
      "    sock.connect(sa)\n",
      "ConnectionRefusedError: [WinError 10061] No connection could be made because the target machine actively refused it\n",
      "\n",
      "During handling of the above exception, another exception occurred:\n",
      "\n",
      "Traceback (most recent call last):\n",
      "  File \"c:\\Users\\rogerrsn\\AppData\\Local\\Programs\\Python\\Python310\\lib\\site-packages\\urllib3\\connectionpool.py\", line 716, in urlopen\n",
      "    httplib_response = self._make_request(\n",
      "  File \"c:\\Users\\rogerrsn\\AppData\\Local\\Programs\\Python\\Python310\\lib\\site-packages\\urllib3\\connectionpool.py\", line 416, in _make_request\n",
      "    conn.request(method, url, **httplib_request_kw)\n",
      "  File \"c:\\Users\\rogerrsn\\AppData\\Local\\Programs\\Python\\Python310\\lib\\site-packages\\urllib3\\connection.py\", line 244, in request\n",
      "    super(HTTPConnection, self).request(method, url, body=body, headers=headers)\n",
      "  File \"c:\\Users\\rogerrsn\\AppData\\Local\\Programs\\Python\\Python310\\lib\\http\\client.py\", line 1282, in request\n",
      "    self._send_request(method, url, body, headers, encode_chunked)\n",
      "  File \"c:\\Users\\rogerrsn\\AppData\\Local\\Programs\\Python\\Python310\\lib\\http\\client.py\", line 1328, in _send_request\n",
      "    self.endheaders(body, encode_chunked=encode_chunked)\n",
      "  File \"c:\\Users\\rogerrsn\\AppData\\Local\\Programs\\Python\\Python310\\lib\\http\\client.py\", line 1277, in endheaders\n",
      "    self._send_output(message_body, encode_chunked=encode_chunked)\n",
      "  File \"c:\\Users\\rogerrsn\\AppData\\Local\\Programs\\Python\\Python310\\lib\\http\\client.py\", line 1037, in _send_output\n",
      "    self.send(msg)\n",
      "  File \"c:\\Users\\rogerrsn\\AppData\\Local\\Programs\\Python\\Python310\\lib\\http\\client.py\", line 975, in send\n",
      "    self.connect()\n",
      "  File \"c:\\Users\\rogerrsn\\AppData\\Local\\Programs\\Python\\Python310\\lib\\site-packages\\urllib3\\connection.py\", line 205, in connect\n",
      "    conn = self._new_conn()\n",
      "  File \"c:\\Users\\rogerrsn\\AppData\\Local\\Programs\\Python\\Python310\\lib\\site-packages\\urllib3\\connection.py\", line 186, in _new_conn\n",
      "    raise NewConnectionError(\n",
      "urllib3.exceptions.NewConnectionError: <urllib3.connection.HTTPConnection object at 0x0000025F99EFFDF0>: Failed to establish a new connection: [WinError 10061] No connection could be made because the target machine actively refused it\n",
      "\n",
      "During handling of the above exception, another exception occurred:\n",
      "\n",
      "Traceback (most recent call last):\n",
      "  File \"c:\\Users\\rogerrsn\\AppData\\Local\\Programs\\Python\\Python310\\lib\\site-packages\\requests\\adapters.py\", line 667, in send\n",
      "    resp = conn.urlopen(\n",
      "  File \"c:\\Users\\rogerrsn\\AppData\\Local\\Programs\\Python\\Python310\\lib\\site-packages\\urllib3\\connectionpool.py\", line 802, in urlopen\n",
      "    retries = retries.increment(\n",
      "  File \"c:\\Users\\rogerrsn\\AppData\\Local\\Programs\\Python\\Python310\\lib\\site-packages\\urllib3\\util\\retry.py\", line 594, in increment\n",
      "    raise MaxRetryError(_pool, url, error or ResponseError(cause))\n",
      "urllib3.exceptions.MaxRetryError: HTTPConnectionPool(host='localhost', port=3000): Max retries exceeded with url: /api/public/otel/v1/traces (Caused by NewConnectionError('<urllib3.connection.HTTPConnection object at 0x0000025F99EFFDF0>: Failed to establish a new connection: [WinError 10061] No connection could be made because the target machine actively refused it'))\n",
      "\n",
      "During handling of the above exception, another exception occurred:\n",
      "\n",
      "Traceback (most recent call last):\n",
      "  File \"c:\\Users\\rogerrsn\\AppData\\Local\\Programs\\Python\\Python310\\lib\\site-packages\\opentelemetry\\sdk\\_shared_internal\\__init__.py\", line 152, in _export\n",
      "    self._exporter.export(\n",
      "  File \"c:\\Users\\rogerrsn\\AppData\\Local\\Programs\\Python\\Python310\\lib\\site-packages\\opentelemetry\\exporter\\otlp\\proto\\http\\trace_exporter\\__init__.py\", line 204, in export\n",
      "    return self._export_serialized_spans(serialized_data)\n",
      "  File \"c:\\Users\\rogerrsn\\AppData\\Local\\Programs\\Python\\Python310\\lib\\site-packages\\opentelemetry\\exporter\\otlp\\proto\\http\\trace_exporter\\__init__.py\", line 174, in _export_serialized_spans\n",
      "    resp = self._export(serialized_data)\n",
      "  File \"c:\\Users\\rogerrsn\\AppData\\Local\\Programs\\Python\\Python310\\lib\\site-packages\\opentelemetry\\exporter\\otlp\\proto\\http\\trace_exporter\\__init__.py\", line 147, in _export\n",
      "    resp = self._session.post(\n",
      "  File \"c:\\Users\\rogerrsn\\AppData\\Local\\Programs\\Python\\Python310\\lib\\site-packages\\requests\\sessions.py\", line 637, in post\n",
      "    return self.request(\"POST\", url, data=data, json=json, **kwargs)\n",
      "  File \"c:\\Users\\rogerrsn\\AppData\\Local\\Programs\\Python\\Python310\\lib\\site-packages\\requests\\sessions.py\", line 589, in request\n",
      "    resp = self.send(prep, **send_kwargs)\n",
      "  File \"c:\\Users\\rogerrsn\\AppData\\Local\\Programs\\Python\\Python310\\lib\\site-packages\\requests\\sessions.py\", line 703, in send\n",
      "    r = adapter.send(request, **kwargs)\n",
      "  File \"c:\\Users\\rogerrsn\\AppData\\Local\\Programs\\Python\\Python310\\lib\\site-packages\\requests\\adapters.py\", line 700, in send\n",
      "    raise ConnectionError(e, request=request)\n",
      "requests.exceptions.ConnectionError: HTTPConnectionPool(host='localhost', port=3000): Max retries exceeded with url: /api/public/otel/v1/traces (Caused by NewConnectionError('<urllib3.connection.HTTPConnection object at 0x0000025F99EFFDF0>: Failed to establish a new connection: [WinError 10061] No connection could be made because the target machine actively refused it'))\n"
     ]
    }
   ],
   "source": [
    "graph_result = run_experiment(question = \" number of movies released by year.\", dataset=movies_dataset)"
   ]
  },
  {
   "cell_type": "code",
   "execution_count": 106,
   "id": "aed78952",
   "metadata": {},
   "outputs": [
    {
     "data": {
      "text/plain": [
       "'vanna'"
      ]
     },
     "execution_count": 106,
     "metadata": {},
     "output_type": "execute_result"
    }
   ],
   "source": [
    "graph_result.get(\"best_vis_strategy\")"
   ]
  },
  {
   "cell_type": "code",
   "execution_count": 107,
   "id": "9ff3742e",
   "metadata": {},
   "outputs": [
    {
     "data": {
      "application/vnd.plotly.v1+json": {
       "config": {
        "plotlyServerURL": "https://plot.ly"
       },
       "data": [
        {
         "alignmentgroup": "True",
         "hovertemplate": "Year=%{x}<br>Number of Movies=%{y}<extra></extra>",
         "legendgroup": "",
         "marker": {
          "color": "#000001",
          "pattern": {
           "shape": ""
          }
         },
         "name": "",
         "offsetgroup": "",
         "orientation": "v",
         "showlegend": false,
         "textposition": "auto",
         "type": "bar",
         "x": [
          1996,
          1997,
          1998,
          1999,
          2000,
          2001,
          2002,
          2003,
          2004,
          2005,
          2006,
          2007,
          2008,
          2009,
          2010
         ],
         "xaxis": "x",
         "y": [
          49,
          42,
          52,
          63,
          65,
          57,
          52,
          58,
          57,
          37,
          40,
          59,
          39,
          34,
          5
         ],
         "yaxis": "y"
        }
       ],
       "layout": {
        "barmode": "relative",
        "legend": {
         "tracegroupgap": 0
        },
        "template": {
         "data": {
          "candlestick": [
           {
            "decreasing": {
             "line": {
              "color": "#000033"
             }
            },
            "increasing": {
             "line": {
              "color": "#000032"
             }
            },
            "type": "candlestick"
           }
          ],
          "contour": [
           {
            "colorscale": [
             [
              0,
              "#000011"
             ],
             [
              0.1111111111111111,
              "#000012"
             ],
             [
              0.2222222222222222,
              "#000013"
             ],
             [
              0.3333333333333333,
              "#000014"
             ],
             [
              0.4444444444444444,
              "#000015"
             ],
             [
              0.5555555555555556,
              "#000016"
             ],
             [
              0.6666666666666666,
              "#000017"
             ],
             [
              0.7777777777777778,
              "#000018"
             ],
             [
              0.8888888888888888,
              "#000019"
             ],
             [
              1,
              "#000020"
             ]
            ],
            "type": "contour"
           }
          ],
          "contourcarpet": [
           {
            "colorscale": [
             [
              0,
              "#000011"
             ],
             [
              0.1111111111111111,
              "#000012"
             ],
             [
              0.2222222222222222,
              "#000013"
             ],
             [
              0.3333333333333333,
              "#000014"
             ],
             [
              0.4444444444444444,
              "#000015"
             ],
             [
              0.5555555555555556,
              "#000016"
             ],
             [
              0.6666666666666666,
              "#000017"
             ],
             [
              0.7777777777777778,
              "#000018"
             ],
             [
              0.8888888888888888,
              "#000019"
             ],
             [
              1,
              "#000020"
             ]
            ],
            "type": "contourcarpet"
           }
          ],
          "heatmap": [
           {
            "colorscale": [
             [
              0,
              "#000011"
             ],
             [
              0.1111111111111111,
              "#000012"
             ],
             [
              0.2222222222222222,
              "#000013"
             ],
             [
              0.3333333333333333,
              "#000014"
             ],
             [
              0.4444444444444444,
              "#000015"
             ],
             [
              0.5555555555555556,
              "#000016"
             ],
             [
              0.6666666666666666,
              "#000017"
             ],
             [
              0.7777777777777778,
              "#000018"
             ],
             [
              0.8888888888888888,
              "#000019"
             ],
             [
              1,
              "#000020"
             ]
            ],
            "type": "heatmap"
           }
          ],
          "histogram2d": [
           {
            "colorscale": [
             [
              0,
              "#000011"
             ],
             [
              0.1111111111111111,
              "#000012"
             ],
             [
              0.2222222222222222,
              "#000013"
             ],
             [
              0.3333333333333333,
              "#000014"
             ],
             [
              0.4444444444444444,
              "#000015"
             ],
             [
              0.5555555555555556,
              "#000016"
             ],
             [
              0.6666666666666666,
              "#000017"
             ],
             [
              0.7777777777777778,
              "#000018"
             ],
             [
              0.8888888888888888,
              "#000019"
             ],
             [
              1,
              "#000020"
             ]
            ],
            "type": "histogram2d"
           }
          ],
          "icicle": [
           {
            "textfont": {
             "color": "white"
            },
            "type": "icicle"
           }
          ],
          "sankey": [
           {
            "textfont": {
             "color": "#000036"
            },
            "type": "sankey"
           }
          ],
          "scatter": [
           {
            "marker": {
             "line": {
              "width": 0
             }
            },
            "type": "scatter"
           }
          ],
          "table": [
           {
            "cells": {
             "fill": {
              "color": "#000038"
             },
             "font": {
              "color": "#000037"
             },
             "line": {
              "color": "#000039"
             }
            },
            "header": {
             "fill": {
              "color": "#000040"
             },
             "font": {
              "color": "#000036"
             },
             "line": {
              "color": "#000039"
             }
            },
            "type": "table"
           }
          ],
          "waterfall": [
           {
            "connector": {
             "line": {
              "color": "#000036",
              "width": 2
             }
            },
            "decreasing": {
             "marker": {
              "color": "#000033"
             }
            },
            "increasing": {
             "marker": {
              "color": "#000032"
             }
            },
            "totals": {
             "marker": {
              "color": "#000034"
             }
            },
            "type": "waterfall"
           }
          ]
         },
         "layout": {
          "coloraxis": {
           "colorscale": [
            [
             0,
             "#000011"
            ],
            [
             0.1111111111111111,
             "#000012"
            ],
            [
             0.2222222222222222,
             "#000013"
            ],
            [
             0.3333333333333333,
             "#000014"
            ],
            [
             0.4444444444444444,
             "#000015"
            ],
            [
             0.5555555555555556,
             "#000016"
            ],
            [
             0.6666666666666666,
             "#000017"
            ],
            [
             0.7777777777777778,
             "#000018"
            ],
            [
             0.8888888888888888,
             "#000019"
            ],
            [
             1,
             "#000020"
            ]
           ]
          },
          "colorscale": {
           "diverging": [
            [
             0,
             "#000021"
            ],
            [
             0.1,
             "#000022"
            ],
            [
             0.2,
             "#000023"
            ],
            [
             0.3,
             "#000024"
            ],
            [
             0.4,
             "#000025"
            ],
            [
             0.5,
             "#000026"
            ],
            [
             0.6,
             "#000027"
            ],
            [
             0.7,
             "#000028"
            ],
            [
             0.8,
             "#000029"
            ],
            [
             0.9,
             "#000030"
            ],
            [
             1,
             "#000031"
            ]
           ],
           "sequential": [
            [
             0,
             "#000011"
            ],
            [
             0.1111111111111111,
             "#000012"
            ],
            [
             0.2222222222222222,
             "#000013"
            ],
            [
             0.3333333333333333,
             "#000014"
            ],
            [
             0.4444444444444444,
             "#000015"
            ],
            [
             0.5555555555555556,
             "#000016"
            ],
            [
             0.6666666666666666,
             "#000017"
            ],
            [
             0.7777777777777778,
             "#000018"
            ],
            [
             0.8888888888888888,
             "#000019"
            ],
            [
             1,
             "#000020"
            ]
           ],
           "sequentialminus": [
            [
             0,
             "#000011"
            ],
            [
             0.1111111111111111,
             "#000012"
            ],
            [
             0.2222222222222222,
             "#000013"
            ],
            [
             0.3333333333333333,
             "#000014"
            ],
            [
             0.4444444444444444,
             "#000015"
            ],
            [
             0.5555555555555556,
             "#000016"
            ],
            [
             0.6666666666666666,
             "#000017"
            ],
            [
             0.7777777777777778,
             "#000018"
            ],
            [
             0.8888888888888888,
             "#000019"
            ],
            [
             1,
             "#000020"
            ]
           ]
          },
          "colorway": [
           "#000001",
           "#000002",
           "#000003",
           "#000004",
           "#000005",
           "#000006",
           "#000007",
           "#000008",
           "#000009",
           "#000010"
          ]
         }
        },
        "title": {
         "text": "Number of Movies Released Each Year"
        },
        "xaxis": {
         "anchor": "y",
         "domain": [
          0,
          1
         ],
         "title": {
          "text": "Year"
         }
        },
        "yaxis": {
         "anchor": "x",
         "domain": [
          0,
          1
         ],
         "title": {
          "text": "Number of Movies"
         }
        }
       }
      }
     },
     "metadata": {},
     "output_type": "display_data"
    }
   ],
   "source": [
    "graph_result.get(\"codes\")[graph_result.get(\"best_vis_strategy\")].get(\"fig\")"
   ]
  },
  {
   "cell_type": "markdown",
   "id": "5efae198",
   "metadata": {},
   "source": [
    "#### Case Study 2"
   ]
  },
  {
   "cell_type": "code",
   "execution_count": 176,
   "id": "7c2e180b",
   "metadata": {},
   "outputs": [
    {
     "name": "stdout",
     "output_type": "stream",
     "text": [
      "[Clarifier Decision] Final Decision: yes - Which movie genres have the highest average gross income across all time?\n",
      "[Router] Decision: text_to_vis\n",
      "[Text-to-VIS] - Query:Which movie genres have the highest average gross income across all time?\n",
      "------------------------------\n",
      "Vanna Visualization Strategy\n",
      "[Data Storytelling] - Generating narrative\n"
     ]
    },
    {
     "data": {
      "text/markdown": [
       "## The Power of Genre in Box Office Success\n",
       "\n",
       "### Context: The Movie Industry's Quest for Profit\n",
       "The film industry is a high-stakes game where studios invest millions in hopes of blockbuster returns. But not all genres are created equal when it comes to raking in revenue. Understanding which genres consistently generate the highest average gross income can guide studios in making strategic decisions about future projects.\n",
       "\n",
       "### Conflict: The Uneven Playing Field of Genres\n",
       "The data reveals a stark disparity in the earning potential of different movie genres. While some genres dominate the box office, others struggle to achieve comparable financial success. This raises questions about audience preferences and the factors driving these trends.\n",
       "\n",
       "### Data Insights: The Winners and Losers\n",
       "- **Adventure films** emerge as the undisputed champions, boasting the highest average gross income. Their ability to transport audiences to fantastical worlds and deliver high-stakes narratives likely contributes to their widespread appeal.\n",
       "- **Action movies** follow closely, leveraging adrenaline-pumping sequences and star power to draw massive crowds.\n",
       "- **Musicals** and **romantic comedies** also perform well, suggesting a strong audience appetite for feel-good, emotionally engaging content.\n",
       "- At the other end of the spectrum, genres like **black comedy**, **concert films**, and **westerns** struggle to achieve similar financial success, indicating niche appeal or limited audience reach.\n",
       "\n",
       "### Insight: Why Adventure Reigns Supreme\n",
       "Adventure films often combine elements of action, drama, and fantasy, appealing to a broad demographic. Their high production values and global marketing campaigns make them a safe bet for studios aiming for blockbuster status.\n",
       "\n",
       "### Conclusion: Strategic Implications for Studios\n",
       "For studios aiming to maximize revenue, investing in adventure and action films appears to be a winning strategy. However, the success of musicals and romantic comedies suggests that diversifying into emotionally resonant genres can also yield significant returns. Understanding audience preferences and market trends will be key to navigating the ever-evolving landscape of the film industry."
      ],
      "text/plain": [
       "<IPython.core.display.Markdown object>"
      ]
     },
     "metadata": {},
     "output_type": "display_data"
    },
    {
     "name": "stderr",
     "output_type": "stream",
     "text": [
      "Exception while exporting Span.\n",
      "Traceback (most recent call last):\n",
      "  File \"c:\\Users\\rogerrsn\\AppData\\Local\\Programs\\Python\\Python310\\lib\\site-packages\\urllib3\\connection.py\", line 174, in _new_conn\n",
      "    conn = connection.create_connection(\n",
      "  File \"c:\\Users\\rogerrsn\\AppData\\Local\\Programs\\Python\\Python310\\lib\\site-packages\\urllib3\\util\\connection.py\", line 95, in create_connection\n",
      "    raise err\n",
      "  File \"c:\\Users\\rogerrsn\\AppData\\Local\\Programs\\Python\\Python310\\lib\\site-packages\\urllib3\\util\\connection.py\", line 85, in create_connection\n",
      "    sock.connect(sa)\n",
      "ConnectionRefusedError: [WinError 10061] No connection could be made because the target machine actively refused it\n",
      "\n",
      "During handling of the above exception, another exception occurred:\n",
      "\n",
      "Traceback (most recent call last):\n",
      "  File \"c:\\Users\\rogerrsn\\AppData\\Local\\Programs\\Python\\Python310\\lib\\site-packages\\urllib3\\connectionpool.py\", line 716, in urlopen\n",
      "    httplib_response = self._make_request(\n",
      "  File \"c:\\Users\\rogerrsn\\AppData\\Local\\Programs\\Python\\Python310\\lib\\site-packages\\urllib3\\connectionpool.py\", line 416, in _make_request\n",
      "    conn.request(method, url, **httplib_request_kw)\n",
      "  File \"c:\\Users\\rogerrsn\\AppData\\Local\\Programs\\Python\\Python310\\lib\\site-packages\\urllib3\\connection.py\", line 244, in request\n",
      "    super(HTTPConnection, self).request(method, url, body=body, headers=headers)\n",
      "  File \"c:\\Users\\rogerrsn\\AppData\\Local\\Programs\\Python\\Python310\\lib\\http\\client.py\", line 1282, in request\n",
      "    self._send_request(method, url, body, headers, encode_chunked)\n",
      "  File \"c:\\Users\\rogerrsn\\AppData\\Local\\Programs\\Python\\Python310\\lib\\http\\client.py\", line 1328, in _send_request\n",
      "    self.endheaders(body, encode_chunked=encode_chunked)\n",
      "  File \"c:\\Users\\rogerrsn\\AppData\\Local\\Programs\\Python\\Python310\\lib\\http\\client.py\", line 1277, in endheaders\n",
      "    self._send_output(message_body, encode_chunked=encode_chunked)\n",
      "  File \"c:\\Users\\rogerrsn\\AppData\\Local\\Programs\\Python\\Python310\\lib\\http\\client.py\", line 1037, in _send_output\n",
      "    self.send(msg)\n",
      "  File \"c:\\Users\\rogerrsn\\AppData\\Local\\Programs\\Python\\Python310\\lib\\http\\client.py\", line 975, in send\n",
      "    self.connect()\n",
      "  File \"c:\\Users\\rogerrsn\\AppData\\Local\\Programs\\Python\\Python310\\lib\\site-packages\\urllib3\\connection.py\", line 205, in connect\n",
      "    conn = self._new_conn()\n",
      "  File \"c:\\Users\\rogerrsn\\AppData\\Local\\Programs\\Python\\Python310\\lib\\site-packages\\urllib3\\connection.py\", line 186, in _new_conn\n",
      "    raise NewConnectionError(\n",
      "urllib3.exceptions.NewConnectionError: <urllib3.connection.HTTPConnection object at 0x0000025FA0633700>: Failed to establish a new connection: [WinError 10061] No connection could be made because the target machine actively refused it\n",
      "\n",
      "During handling of the above exception, another exception occurred:\n",
      "\n",
      "Traceback (most recent call last):\n",
      "  File \"c:\\Users\\rogerrsn\\AppData\\Local\\Programs\\Python\\Python310\\lib\\site-packages\\requests\\adapters.py\", line 667, in send\n",
      "    resp = conn.urlopen(\n",
      "  File \"c:\\Users\\rogerrsn\\AppData\\Local\\Programs\\Python\\Python310\\lib\\site-packages\\urllib3\\connectionpool.py\", line 802, in urlopen\n",
      "    retries = retries.increment(\n",
      "  File \"c:\\Users\\rogerrsn\\AppData\\Local\\Programs\\Python\\Python310\\lib\\site-packages\\urllib3\\util\\retry.py\", line 594, in increment\n",
      "    raise MaxRetryError(_pool, url, error or ResponseError(cause))\n",
      "urllib3.exceptions.MaxRetryError: HTTPConnectionPool(host='localhost', port=3000): Max retries exceeded with url: /api/public/otel/v1/traces (Caused by NewConnectionError('<urllib3.connection.HTTPConnection object at 0x0000025FA0633700>: Failed to establish a new connection: [WinError 10061] No connection could be made because the target machine actively refused it'))\n",
      "\n",
      "During handling of the above exception, another exception occurred:\n",
      "\n",
      "Traceback (most recent call last):\n",
      "  File \"c:\\Users\\rogerrsn\\AppData\\Local\\Programs\\Python\\Python310\\lib\\site-packages\\opentelemetry\\exporter\\otlp\\proto\\http\\trace_exporter\\__init__.py\", line 139, in _export\n",
      "    resp = self._session.post(\n",
      "  File \"c:\\Users\\rogerrsn\\AppData\\Local\\Programs\\Python\\Python310\\lib\\site-packages\\requests\\sessions.py\", line 637, in post\n",
      "    return self.request(\"POST\", url, data=data, json=json, **kwargs)\n",
      "  File \"c:\\Users\\rogerrsn\\AppData\\Local\\Programs\\Python\\Python310\\lib\\site-packages\\requests\\sessions.py\", line 589, in request\n",
      "    resp = self.send(prep, **send_kwargs)\n",
      "  File \"c:\\Users\\rogerrsn\\AppData\\Local\\Programs\\Python\\Python310\\lib\\site-packages\\requests\\sessions.py\", line 703, in send\n",
      "    r = adapter.send(request, **kwargs)\n",
      "  File \"c:\\Users\\rogerrsn\\AppData\\Local\\Programs\\Python\\Python310\\lib\\site-packages\\requests\\adapters.py\", line 700, in send\n",
      "    raise ConnectionError(e, request=request)\n",
      "requests.exceptions.ConnectionError: HTTPConnectionPool(host='localhost', port=3000): Max retries exceeded with url: /api/public/otel/v1/traces (Caused by NewConnectionError('<urllib3.connection.HTTPConnection object at 0x0000025FA0633700>: Failed to establish a new connection: [WinError 10061] No connection could be made because the target machine actively refused it'))\n",
      "\n",
      "During handling of the above exception, another exception occurred:\n",
      "\n",
      "Traceback (most recent call last):\n",
      "  File \"c:\\Users\\rogerrsn\\AppData\\Local\\Programs\\Python\\Python310\\lib\\site-packages\\urllib3\\connection.py\", line 174, in _new_conn\n",
      "    conn = connection.create_connection(\n",
      "  File \"c:\\Users\\rogerrsn\\AppData\\Local\\Programs\\Python\\Python310\\lib\\site-packages\\urllib3\\util\\connection.py\", line 95, in create_connection\n",
      "    raise err\n",
      "  File \"c:\\Users\\rogerrsn\\AppData\\Local\\Programs\\Python\\Python310\\lib\\site-packages\\urllib3\\util\\connection.py\", line 85, in create_connection\n",
      "    sock.connect(sa)\n",
      "ConnectionRefusedError: [WinError 10061] No connection could be made because the target machine actively refused it\n",
      "\n",
      "During handling of the above exception, another exception occurred:\n",
      "\n",
      "Traceback (most recent call last):\n",
      "  File \"c:\\Users\\rogerrsn\\AppData\\Local\\Programs\\Python\\Python310\\lib\\site-packages\\urllib3\\connectionpool.py\", line 716, in urlopen\n",
      "    httplib_response = self._make_request(\n",
      "  File \"c:\\Users\\rogerrsn\\AppData\\Local\\Programs\\Python\\Python310\\lib\\site-packages\\urllib3\\connectionpool.py\", line 416, in _make_request\n",
      "    conn.request(method, url, **httplib_request_kw)\n",
      "  File \"c:\\Users\\rogerrsn\\AppData\\Local\\Programs\\Python\\Python310\\lib\\site-packages\\urllib3\\connection.py\", line 244, in request\n",
      "    super(HTTPConnection, self).request(method, url, body=body, headers=headers)\n",
      "  File \"c:\\Users\\rogerrsn\\AppData\\Local\\Programs\\Python\\Python310\\lib\\http\\client.py\", line 1282, in request\n",
      "    self._send_request(method, url, body, headers, encode_chunked)\n",
      "  File \"c:\\Users\\rogerrsn\\AppData\\Local\\Programs\\Python\\Python310\\lib\\http\\client.py\", line 1328, in _send_request\n",
      "    self.endheaders(body, encode_chunked=encode_chunked)\n",
      "  File \"c:\\Users\\rogerrsn\\AppData\\Local\\Programs\\Python\\Python310\\lib\\http\\client.py\", line 1277, in endheaders\n",
      "    self._send_output(message_body, encode_chunked=encode_chunked)\n",
      "  File \"c:\\Users\\rogerrsn\\AppData\\Local\\Programs\\Python\\Python310\\lib\\http\\client.py\", line 1037, in _send_output\n",
      "    self.send(msg)\n",
      "  File \"c:\\Users\\rogerrsn\\AppData\\Local\\Programs\\Python\\Python310\\lib\\http\\client.py\", line 975, in send\n",
      "    self.connect()\n",
      "  File \"c:\\Users\\rogerrsn\\AppData\\Local\\Programs\\Python\\Python310\\lib\\site-packages\\urllib3\\connection.py\", line 205, in connect\n",
      "    conn = self._new_conn()\n",
      "  File \"c:\\Users\\rogerrsn\\AppData\\Local\\Programs\\Python\\Python310\\lib\\site-packages\\urllib3\\connection.py\", line 186, in _new_conn\n",
      "    raise NewConnectionError(\n",
      "urllib3.exceptions.NewConnectionError: <urllib3.connection.HTTPConnection object at 0x0000025FA0792EF0>: Failed to establish a new connection: [WinError 10061] No connection could be made because the target machine actively refused it\n",
      "\n",
      "During handling of the above exception, another exception occurred:\n",
      "\n",
      "Traceback (most recent call last):\n",
      "  File \"c:\\Users\\rogerrsn\\AppData\\Local\\Programs\\Python\\Python310\\lib\\site-packages\\requests\\adapters.py\", line 667, in send\n",
      "    resp = conn.urlopen(\n",
      "  File \"c:\\Users\\rogerrsn\\AppData\\Local\\Programs\\Python\\Python310\\lib\\site-packages\\urllib3\\connectionpool.py\", line 802, in urlopen\n",
      "    retries = retries.increment(\n",
      "  File \"c:\\Users\\rogerrsn\\AppData\\Local\\Programs\\Python\\Python310\\lib\\site-packages\\urllib3\\util\\retry.py\", line 594, in increment\n",
      "    raise MaxRetryError(_pool, url, error or ResponseError(cause))\n",
      "urllib3.exceptions.MaxRetryError: HTTPConnectionPool(host='localhost', port=3000): Max retries exceeded with url: /api/public/otel/v1/traces (Caused by NewConnectionError('<urllib3.connection.HTTPConnection object at 0x0000025FA0792EF0>: Failed to establish a new connection: [WinError 10061] No connection could be made because the target machine actively refused it'))\n",
      "\n",
      "During handling of the above exception, another exception occurred:\n",
      "\n",
      "Traceback (most recent call last):\n",
      "  File \"c:\\Users\\rogerrsn\\AppData\\Local\\Programs\\Python\\Python310\\lib\\site-packages\\opentelemetry\\sdk\\_shared_internal\\__init__.py\", line 152, in _export\n",
      "    self._exporter.export(\n",
      "  File \"c:\\Users\\rogerrsn\\AppData\\Local\\Programs\\Python\\Python310\\lib\\site-packages\\opentelemetry\\exporter\\otlp\\proto\\http\\trace_exporter\\__init__.py\", line 204, in export\n",
      "    return self._export_serialized_spans(serialized_data)\n",
      "  File \"c:\\Users\\rogerrsn\\AppData\\Local\\Programs\\Python\\Python310\\lib\\site-packages\\opentelemetry\\exporter\\otlp\\proto\\http\\trace_exporter\\__init__.py\", line 174, in _export_serialized_spans\n",
      "    resp = self._export(serialized_data)\n",
      "  File \"c:\\Users\\rogerrsn\\AppData\\Local\\Programs\\Python\\Python310\\lib\\site-packages\\opentelemetry\\exporter\\otlp\\proto\\http\\trace_exporter\\__init__.py\", line 147, in _export\n",
      "    resp = self._session.post(\n",
      "  File \"c:\\Users\\rogerrsn\\AppData\\Local\\Programs\\Python\\Python310\\lib\\site-packages\\requests\\sessions.py\", line 637, in post\n",
      "    return self.request(\"POST\", url, data=data, json=json, **kwargs)\n",
      "  File \"c:\\Users\\rogerrsn\\AppData\\Local\\Programs\\Python\\Python310\\lib\\site-packages\\requests\\sessions.py\", line 589, in request\n",
      "    resp = self.send(prep, **send_kwargs)\n",
      "  File \"c:\\Users\\rogerrsn\\AppData\\Local\\Programs\\Python\\Python310\\lib\\site-packages\\requests\\sessions.py\", line 703, in send\n",
      "    r = adapter.send(request, **kwargs)\n",
      "  File \"c:\\Users\\rogerrsn\\AppData\\Local\\Programs\\Python\\Python310\\lib\\site-packages\\requests\\adapters.py\", line 700, in send\n",
      "    raise ConnectionError(e, request=request)\n",
      "requests.exceptions.ConnectionError: HTTPConnectionPool(host='localhost', port=3000): Max retries exceeded with url: /api/public/otel/v1/traces (Caused by NewConnectionError('<urllib3.connection.HTTPConnection object at 0x0000025FA0792EF0>: Failed to establish a new connection: [WinError 10061] No connection could be made because the target machine actively refused it'))\n"
     ]
    }
   ],
   "source": [
    "graph_result = run_experiment(question = \"Which movie genres have the highest average gross income?\", dataset=movies_dataset)"
   ]
  },
  {
   "cell_type": "code",
   "execution_count": 164,
   "id": "ecf3981d",
   "metadata": {},
   "outputs": [
    {
     "data": {
      "text/plain": [
       "'vanna'"
      ]
     },
     "execution_count": 164,
     "metadata": {},
     "output_type": "execute_result"
    }
   ],
   "source": [
    "graph_result.get(\"best_vis_strategy\")"
   ]
  },
  {
   "cell_type": "code",
   "execution_count": 116,
   "id": "2745b3de",
   "metadata": {},
   "outputs": [
    {
     "data": {
      "application/vnd.plotly.v1+json": {
       "config": {
        "plotlyServerURL": "https://plot.ly"
       },
       "data": [
        {
         "alignmentgroup": "True",
         "hovertemplate": "Genre=%{x}<br>Average Gross Income=%{y}<extra></extra>",
         "legendgroup": "",
         "marker": {
          "color": "#000001",
          "pattern": {
           "shape": ""
          }
         },
         "name": "",
         "offsetgroup": "",
         "orientation": "v",
         "showlegend": false,
         "textposition": "auto",
         "texttemplate": "%{y}",
         "type": "bar",
         "x": [
          "Adventure",
          "Action",
          "Musical",
          "Romantic Comedy",
          "Thriller",
          "Comedy",
          "Documentary",
          "Horror",
          "Drama",
          "Western",
          "Concert",
          "Black Comedy"
         ],
         "xaxis": "x",
         "y": [
          352661750.4096386,
          215338315.0406504,
          185908491.66666666,
          173638023.11764705,
          144110231.76056337,
          132308849.51265822,
          117775295.5,
          115255502.47222222,
          99464669.17582418,
          70973106.8,
          38236338,
          31498114.875
         ],
         "yaxis": "y"
        }
       ],
       "layout": {
        "barmode": "relative",
        "legend": {
         "tracegroupgap": 0
        },
        "template": {
         "data": {
          "candlestick": [
           {
            "decreasing": {
             "line": {
              "color": "#000033"
             }
            },
            "increasing": {
             "line": {
              "color": "#000032"
             }
            },
            "type": "candlestick"
           }
          ],
          "contour": [
           {
            "colorscale": [
             [
              0,
              "#000011"
             ],
             [
              0.1111111111111111,
              "#000012"
             ],
             [
              0.2222222222222222,
              "#000013"
             ],
             [
              0.3333333333333333,
              "#000014"
             ],
             [
              0.4444444444444444,
              "#000015"
             ],
             [
              0.5555555555555556,
              "#000016"
             ],
             [
              0.6666666666666666,
              "#000017"
             ],
             [
              0.7777777777777778,
              "#000018"
             ],
             [
              0.8888888888888888,
              "#000019"
             ],
             [
              1,
              "#000020"
             ]
            ],
            "type": "contour"
           }
          ],
          "contourcarpet": [
           {
            "colorscale": [
             [
              0,
              "#000011"
             ],
             [
              0.1111111111111111,
              "#000012"
             ],
             [
              0.2222222222222222,
              "#000013"
             ],
             [
              0.3333333333333333,
              "#000014"
             ],
             [
              0.4444444444444444,
              "#000015"
             ],
             [
              0.5555555555555556,
              "#000016"
             ],
             [
              0.6666666666666666,
              "#000017"
             ],
             [
              0.7777777777777778,
              "#000018"
             ],
             [
              0.8888888888888888,
              "#000019"
             ],
             [
              1,
              "#000020"
             ]
            ],
            "type": "contourcarpet"
           }
          ],
          "heatmap": [
           {
            "colorscale": [
             [
              0,
              "#000011"
             ],
             [
              0.1111111111111111,
              "#000012"
             ],
             [
              0.2222222222222222,
              "#000013"
             ],
             [
              0.3333333333333333,
              "#000014"
             ],
             [
              0.4444444444444444,
              "#000015"
             ],
             [
              0.5555555555555556,
              "#000016"
             ],
             [
              0.6666666666666666,
              "#000017"
             ],
             [
              0.7777777777777778,
              "#000018"
             ],
             [
              0.8888888888888888,
              "#000019"
             ],
             [
              1,
              "#000020"
             ]
            ],
            "type": "heatmap"
           }
          ],
          "histogram2d": [
           {
            "colorscale": [
             [
              0,
              "#000011"
             ],
             [
              0.1111111111111111,
              "#000012"
             ],
             [
              0.2222222222222222,
              "#000013"
             ],
             [
              0.3333333333333333,
              "#000014"
             ],
             [
              0.4444444444444444,
              "#000015"
             ],
             [
              0.5555555555555556,
              "#000016"
             ],
             [
              0.6666666666666666,
              "#000017"
             ],
             [
              0.7777777777777778,
              "#000018"
             ],
             [
              0.8888888888888888,
              "#000019"
             ],
             [
              1,
              "#000020"
             ]
            ],
            "type": "histogram2d"
           }
          ],
          "icicle": [
           {
            "textfont": {
             "color": "white"
            },
            "type": "icicle"
           }
          ],
          "sankey": [
           {
            "textfont": {
             "color": "#000036"
            },
            "type": "sankey"
           }
          ],
          "scatter": [
           {
            "marker": {
             "line": {
              "width": 0
             }
            },
            "type": "scatter"
           }
          ],
          "table": [
           {
            "cells": {
             "fill": {
              "color": "#000038"
             },
             "font": {
              "color": "#000037"
             },
             "line": {
              "color": "#000039"
             }
            },
            "header": {
             "fill": {
              "color": "#000040"
             },
             "font": {
              "color": "#000036"
             },
             "line": {
              "color": "#000039"
             }
            },
            "type": "table"
           }
          ],
          "waterfall": [
           {
            "connector": {
             "line": {
              "color": "#000036",
              "width": 2
             }
            },
            "decreasing": {
             "marker": {
              "color": "#000033"
             }
            },
            "increasing": {
             "marker": {
              "color": "#000032"
             }
            },
            "totals": {
             "marker": {
              "color": "#000034"
             }
            },
            "type": "waterfall"
           }
          ]
         },
         "layout": {
          "coloraxis": {
           "colorscale": [
            [
             0,
             "#000011"
            ],
            [
             0.1111111111111111,
             "#000012"
            ],
            [
             0.2222222222222222,
             "#000013"
            ],
            [
             0.3333333333333333,
             "#000014"
            ],
            [
             0.4444444444444444,
             "#000015"
            ],
            [
             0.5555555555555556,
             "#000016"
            ],
            [
             0.6666666666666666,
             "#000017"
            ],
            [
             0.7777777777777778,
             "#000018"
            ],
            [
             0.8888888888888888,
             "#000019"
            ],
            [
             1,
             "#000020"
            ]
           ]
          },
          "colorscale": {
           "diverging": [
            [
             0,
             "#000021"
            ],
            [
             0.1,
             "#000022"
            ],
            [
             0.2,
             "#000023"
            ],
            [
             0.3,
             "#000024"
            ],
            [
             0.4,
             "#000025"
            ],
            [
             0.5,
             "#000026"
            ],
            [
             0.6,
             "#000027"
            ],
            [
             0.7,
             "#000028"
            ],
            [
             0.8,
             "#000029"
            ],
            [
             0.9,
             "#000030"
            ],
            [
             1,
             "#000031"
            ]
           ],
           "sequential": [
            [
             0,
             "#000011"
            ],
            [
             0.1111111111111111,
             "#000012"
            ],
            [
             0.2222222222222222,
             "#000013"
            ],
            [
             0.3333333333333333,
             "#000014"
            ],
            [
             0.4444444444444444,
             "#000015"
            ],
            [
             0.5555555555555556,
             "#000016"
            ],
            [
             0.6666666666666666,
             "#000017"
            ],
            [
             0.7777777777777778,
             "#000018"
            ],
            [
             0.8888888888888888,
             "#000019"
            ],
            [
             1,
             "#000020"
            ]
           ],
           "sequentialminus": [
            [
             0,
             "#000011"
            ],
            [
             0.1111111111111111,
             "#000012"
            ],
            [
             0.2222222222222222,
             "#000013"
            ],
            [
             0.3333333333333333,
             "#000014"
            ],
            [
             0.4444444444444444,
             "#000015"
            ],
            [
             0.5555555555555556,
             "#000016"
            ],
            [
             0.6666666666666666,
             "#000017"
            ],
            [
             0.7777777777777778,
             "#000018"
            ],
            [
             0.8888888888888888,
             "#000019"
            ],
            [
             1,
             "#000020"
            ]
           ]
          },
          "colorway": [
           "#000001",
           "#000002",
           "#000003",
           "#000004",
           "#000005",
           "#000006",
           "#000007",
           "#000008",
           "#000009",
           "#000010"
          ]
         }
        },
        "title": {
         "text": "Average Gross Income by Genre"
        },
        "xaxis": {
         "anchor": "y",
         "domain": [
          0,
          1
         ],
         "title": {
          "text": "Genre"
         }
        },
        "yaxis": {
         "anchor": "x",
         "domain": [
          0,
          1
         ],
         "title": {
          "text": "Average Gross Income"
         }
        }
       }
      }
     },
     "metadata": {},
     "output_type": "display_data"
    }
   ],
   "source": [
    "graph_result.get(\"codes\")[graph_result.get(\"best_vis_strategy\")].get(\"fig\")"
   ]
  },
  {
   "cell_type": "markdown",
   "id": "1adfc8f2",
   "metadata": {},
   "source": [
    "#### Case Study 3"
   ]
  },
  {
   "cell_type": "code",
   "execution_count": 177,
   "id": "aa93a6a8",
   "metadata": {},
   "outputs": [
    {
     "name": "stdout",
     "output_type": "stream",
     "text": [
      "[Clarifier Decision] Final Decision: no - Do you want to analyze the correlation between movie budgets and gross income for all movies in the database, or for a specific time period or genre?\n",
      "[Router] Decision: ask_human_clarify\n",
      "[NODE] Feedback human\n",
      "[Clarifier Decision] Final Decision: no - Do you want to analyze the correlation between movie budgets and gross income for all movies in the database, or for a specific time period or genre?\n",
      "[Router] Decision: ask_human_clarify\n",
      "[NODE] Feedback human\n",
      "[Clarifier Decision] Final Decision: yes - Analyze the correlation between movie budgets and gross income for movies in the adventure genre.\n",
      "[Router] Decision: text_to_vis\n",
      "[Text-to-VIS] - Query:Analyze the correlation between movie budgets and gross income for movies in the adventure genre.\n",
      "------------------------------\n",
      "Vanna Visualization Strategy\n",
      "[Data Storytelling] - Generating narrative\n"
     ]
    },
    {
     "data": {
      "text/markdown": [
       "## The Relationship Between Adventure Movie Budgets and Box Office Success\n",
       "\n",
       "### Context: The High-Stakes World of Adventure Films\n",
       "Adventure movies are known for their grand scale, breathtaking visuals, and often hefty production budgets. But does spending more on production guarantee a blockbuster hit? This analysis explores the relationship between production budgets and worldwide gross income for adventure films, shedding light on whether bigger budgets translate to bigger box office returns.\n",
       "\n",
       "### The Challenge: The Budget vs. Revenue Dilemma\n",
       "While it’s tempting to assume that higher budgets lead to higher earnings, the data reveals a more nuanced story. The scatterplot shows a positive correlation between production budgets and worldwide gross income, but the relationship is far from linear. Some high-budget films achieve astronomical success, while others fail to recoup their costs. Similarly, a few lower-budget films manage to punch above their weight, earning impressive returns.\n",
       "\n",
       "### Key Insights from the Data:\n",
       "- **Positive Correlation with Variability:** Generally, as production budgets increase, so does the worldwide gross. However, the spread of data points indicates significant variability in outcomes, even among films with similar budgets.\n",
       "- **Outliers and Blockbusters:** Films like *Spider-Man 3* and *Pirates of the Caribbean: Dead Man's Chest* stand out as high-budget productions that delivered massive box office returns, reinforcing the idea that some investments do pay off spectacularly.\n",
       "- **The Risk of High Budgets:** Not all high-budget films are guaranteed hits. For instance, some movies with budgets exceeding $150 million failed to break even, highlighting the financial risks involved.\n",
       "- **Surprising Success Stories:** A few lower-budget films, such as *Shrek* and *Finding Nemo*, achieved remarkable success, proving that creativity and storytelling can sometimes outweigh sheer financial investment.\n",
       "\n",
       "### Conclusion: Balancing Art and Commerce\n",
       "The data underscores the high-risk, high-reward nature of the adventure genre. While larger budgets often lead to higher earnings, they also come with greater financial risk. Filmmakers and studios must strike a delicate balance between investing in production quality and ensuring a compelling story that resonates with audiences. Ultimately, the magic of cinema lies not just in the money spent but in the ability to captivate and inspire viewers."
      ],
      "text/plain": [
       "<IPython.core.display.Markdown object>"
      ]
     },
     "metadata": {},
     "output_type": "display_data"
    },
    {
     "name": "stderr",
     "output_type": "stream",
     "text": [
      "Exception while exporting Span.\n",
      "Traceback (most recent call last):\n",
      "  File \"c:\\Users\\rogerrsn\\AppData\\Local\\Programs\\Python\\Python310\\lib\\site-packages\\urllib3\\connection.py\", line 174, in _new_conn\n",
      "    conn = connection.create_connection(\n",
      "  File \"c:\\Users\\rogerrsn\\AppData\\Local\\Programs\\Python\\Python310\\lib\\site-packages\\urllib3\\util\\connection.py\", line 95, in create_connection\n",
      "    raise err\n",
      "  File \"c:\\Users\\rogerrsn\\AppData\\Local\\Programs\\Python\\Python310\\lib\\site-packages\\urllib3\\util\\connection.py\", line 85, in create_connection\n",
      "    sock.connect(sa)\n",
      "ConnectionRefusedError: [WinError 10061] No connection could be made because the target machine actively refused it\n",
      "\n",
      "During handling of the above exception, another exception occurred:\n",
      "\n",
      "Traceback (most recent call last):\n",
      "  File \"c:\\Users\\rogerrsn\\AppData\\Local\\Programs\\Python\\Python310\\lib\\site-packages\\urllib3\\connectionpool.py\", line 716, in urlopen\n",
      "    httplib_response = self._make_request(\n",
      "  File \"c:\\Users\\rogerrsn\\AppData\\Local\\Programs\\Python\\Python310\\lib\\site-packages\\urllib3\\connectionpool.py\", line 416, in _make_request\n",
      "    conn.request(method, url, **httplib_request_kw)\n",
      "  File \"c:\\Users\\rogerrsn\\AppData\\Local\\Programs\\Python\\Python310\\lib\\site-packages\\urllib3\\connection.py\", line 244, in request\n",
      "    super(HTTPConnection, self).request(method, url, body=body, headers=headers)\n",
      "  File \"c:\\Users\\rogerrsn\\AppData\\Local\\Programs\\Python\\Python310\\lib\\http\\client.py\", line 1282, in request\n",
      "    self._send_request(method, url, body, headers, encode_chunked)\n",
      "  File \"c:\\Users\\rogerrsn\\AppData\\Local\\Programs\\Python\\Python310\\lib\\http\\client.py\", line 1328, in _send_request\n",
      "    self.endheaders(body, encode_chunked=encode_chunked)\n",
      "  File \"c:\\Users\\rogerrsn\\AppData\\Local\\Programs\\Python\\Python310\\lib\\http\\client.py\", line 1277, in endheaders\n",
      "    self._send_output(message_body, encode_chunked=encode_chunked)\n",
      "  File \"c:\\Users\\rogerrsn\\AppData\\Local\\Programs\\Python\\Python310\\lib\\http\\client.py\", line 1037, in _send_output\n",
      "    self.send(msg)\n",
      "  File \"c:\\Users\\rogerrsn\\AppData\\Local\\Programs\\Python\\Python310\\lib\\http\\client.py\", line 975, in send\n",
      "    self.connect()\n",
      "  File \"c:\\Users\\rogerrsn\\AppData\\Local\\Programs\\Python\\Python310\\lib\\site-packages\\urllib3\\connection.py\", line 205, in connect\n",
      "    conn = self._new_conn()\n",
      "  File \"c:\\Users\\rogerrsn\\AppData\\Local\\Programs\\Python\\Python310\\lib\\site-packages\\urllib3\\connection.py\", line 186, in _new_conn\n",
      "    raise NewConnectionError(\n",
      "urllib3.exceptions.NewConnectionError: <urllib3.connection.HTTPConnection object at 0x0000025FA3082DA0>: Failed to establish a new connection: [WinError 10061] No connection could be made because the target machine actively refused it\n",
      "\n",
      "During handling of the above exception, another exception occurred:\n",
      "\n",
      "Traceback (most recent call last):\n",
      "  File \"c:\\Users\\rogerrsn\\AppData\\Local\\Programs\\Python\\Python310\\lib\\site-packages\\requests\\adapters.py\", line 667, in send\n",
      "    resp = conn.urlopen(\n",
      "  File \"c:\\Users\\rogerrsn\\AppData\\Local\\Programs\\Python\\Python310\\lib\\site-packages\\urllib3\\connectionpool.py\", line 802, in urlopen\n",
      "    retries = retries.increment(\n",
      "  File \"c:\\Users\\rogerrsn\\AppData\\Local\\Programs\\Python\\Python310\\lib\\site-packages\\urllib3\\util\\retry.py\", line 594, in increment\n",
      "    raise MaxRetryError(_pool, url, error or ResponseError(cause))\n",
      "urllib3.exceptions.MaxRetryError: HTTPConnectionPool(host='localhost', port=3000): Max retries exceeded with url: /api/public/otel/v1/traces (Caused by NewConnectionError('<urllib3.connection.HTTPConnection object at 0x0000025FA3082DA0>: Failed to establish a new connection: [WinError 10061] No connection could be made because the target machine actively refused it'))\n",
      "\n",
      "During handling of the above exception, another exception occurred:\n",
      "\n",
      "Traceback (most recent call last):\n",
      "  File \"c:\\Users\\rogerrsn\\AppData\\Local\\Programs\\Python\\Python310\\lib\\site-packages\\opentelemetry\\exporter\\otlp\\proto\\http\\trace_exporter\\__init__.py\", line 139, in _export\n",
      "    resp = self._session.post(\n",
      "  File \"c:\\Users\\rogerrsn\\AppData\\Local\\Programs\\Python\\Python310\\lib\\site-packages\\requests\\sessions.py\", line 637, in post\n",
      "    return self.request(\"POST\", url, data=data, json=json, **kwargs)\n",
      "  File \"c:\\Users\\rogerrsn\\AppData\\Local\\Programs\\Python\\Python310\\lib\\site-packages\\requests\\sessions.py\", line 589, in request\n",
      "    resp = self.send(prep, **send_kwargs)\n",
      "  File \"c:\\Users\\rogerrsn\\AppData\\Local\\Programs\\Python\\Python310\\lib\\site-packages\\requests\\sessions.py\", line 703, in send\n",
      "    r = adapter.send(request, **kwargs)\n",
      "  File \"c:\\Users\\rogerrsn\\AppData\\Local\\Programs\\Python\\Python310\\lib\\site-packages\\requests\\adapters.py\", line 700, in send\n",
      "    raise ConnectionError(e, request=request)\n",
      "requests.exceptions.ConnectionError: HTTPConnectionPool(host='localhost', port=3000): Max retries exceeded with url: /api/public/otel/v1/traces (Caused by NewConnectionError('<urllib3.connection.HTTPConnection object at 0x0000025FA3082DA0>: Failed to establish a new connection: [WinError 10061] No connection could be made because the target machine actively refused it'))\n",
      "\n",
      "During handling of the above exception, another exception occurred:\n",
      "\n",
      "Traceback (most recent call last):\n",
      "  File \"c:\\Users\\rogerrsn\\AppData\\Local\\Programs\\Python\\Python310\\lib\\site-packages\\urllib3\\connection.py\", line 174, in _new_conn\n",
      "    conn = connection.create_connection(\n",
      "  File \"c:\\Users\\rogerrsn\\AppData\\Local\\Programs\\Python\\Python310\\lib\\site-packages\\urllib3\\util\\connection.py\", line 95, in create_connection\n",
      "    raise err\n",
      "  File \"c:\\Users\\rogerrsn\\AppData\\Local\\Programs\\Python\\Python310\\lib\\site-packages\\urllib3\\util\\connection.py\", line 85, in create_connection\n",
      "    sock.connect(sa)\n",
      "ConnectionRefusedError: [WinError 10061] No connection could be made because the target machine actively refused it\n",
      "\n",
      "During handling of the above exception, another exception occurred:\n",
      "\n",
      "Traceback (most recent call last):\n",
      "  File \"c:\\Users\\rogerrsn\\AppData\\Local\\Programs\\Python\\Python310\\lib\\site-packages\\urllib3\\connectionpool.py\", line 716, in urlopen\n",
      "    httplib_response = self._make_request(\n",
      "  File \"c:\\Users\\rogerrsn\\AppData\\Local\\Programs\\Python\\Python310\\lib\\site-packages\\urllib3\\connectionpool.py\", line 416, in _make_request\n",
      "    conn.request(method, url, **httplib_request_kw)\n",
      "  File \"c:\\Users\\rogerrsn\\AppData\\Local\\Programs\\Python\\Python310\\lib\\site-packages\\urllib3\\connection.py\", line 244, in request\n",
      "    super(HTTPConnection, self).request(method, url, body=body, headers=headers)\n",
      "  File \"c:\\Users\\rogerrsn\\AppData\\Local\\Programs\\Python\\Python310\\lib\\http\\client.py\", line 1282, in request\n",
      "    self._send_request(method, url, body, headers, encode_chunked)\n",
      "  File \"c:\\Users\\rogerrsn\\AppData\\Local\\Programs\\Python\\Python310\\lib\\http\\client.py\", line 1328, in _send_request\n",
      "    self.endheaders(body, encode_chunked=encode_chunked)\n",
      "  File \"c:\\Users\\rogerrsn\\AppData\\Local\\Programs\\Python\\Python310\\lib\\http\\client.py\", line 1277, in endheaders\n",
      "    self._send_output(message_body, encode_chunked=encode_chunked)\n",
      "  File \"c:\\Users\\rogerrsn\\AppData\\Local\\Programs\\Python\\Python310\\lib\\http\\client.py\", line 1037, in _send_output\n",
      "    self.send(msg)\n",
      "  File \"c:\\Users\\rogerrsn\\AppData\\Local\\Programs\\Python\\Python310\\lib\\http\\client.py\", line 975, in send\n",
      "    self.connect()\n",
      "  File \"c:\\Users\\rogerrsn\\AppData\\Local\\Programs\\Python\\Python310\\lib\\site-packages\\urllib3\\connection.py\", line 205, in connect\n",
      "    conn = self._new_conn()\n",
      "  File \"c:\\Users\\rogerrsn\\AppData\\Local\\Programs\\Python\\Python310\\lib\\site-packages\\urllib3\\connection.py\", line 186, in _new_conn\n",
      "    raise NewConnectionError(\n",
      "urllib3.exceptions.NewConnectionError: <urllib3.connection.HTTPConnection object at 0x0000025FA0792740>: Failed to establish a new connection: [WinError 10061] No connection could be made because the target machine actively refused it\n",
      "\n",
      "During handling of the above exception, another exception occurred:\n",
      "\n",
      "Traceback (most recent call last):\n",
      "  File \"c:\\Users\\rogerrsn\\AppData\\Local\\Programs\\Python\\Python310\\lib\\site-packages\\requests\\adapters.py\", line 667, in send\n",
      "    resp = conn.urlopen(\n",
      "  File \"c:\\Users\\rogerrsn\\AppData\\Local\\Programs\\Python\\Python310\\lib\\site-packages\\urllib3\\connectionpool.py\", line 802, in urlopen\n",
      "    retries = retries.increment(\n",
      "  File \"c:\\Users\\rogerrsn\\AppData\\Local\\Programs\\Python\\Python310\\lib\\site-packages\\urllib3\\util\\retry.py\", line 594, in increment\n",
      "    raise MaxRetryError(_pool, url, error or ResponseError(cause))\n",
      "urllib3.exceptions.MaxRetryError: HTTPConnectionPool(host='localhost', port=3000): Max retries exceeded with url: /api/public/otel/v1/traces (Caused by NewConnectionError('<urllib3.connection.HTTPConnection object at 0x0000025FA0792740>: Failed to establish a new connection: [WinError 10061] No connection could be made because the target machine actively refused it'))\n",
      "\n",
      "During handling of the above exception, another exception occurred:\n",
      "\n",
      "Traceback (most recent call last):\n",
      "  File \"c:\\Users\\rogerrsn\\AppData\\Local\\Programs\\Python\\Python310\\lib\\site-packages\\opentelemetry\\sdk\\_shared_internal\\__init__.py\", line 152, in _export\n",
      "    self._exporter.export(\n",
      "  File \"c:\\Users\\rogerrsn\\AppData\\Local\\Programs\\Python\\Python310\\lib\\site-packages\\opentelemetry\\exporter\\otlp\\proto\\http\\trace_exporter\\__init__.py\", line 204, in export\n",
      "    return self._export_serialized_spans(serialized_data)\n",
      "  File \"c:\\Users\\rogerrsn\\AppData\\Local\\Programs\\Python\\Python310\\lib\\site-packages\\opentelemetry\\exporter\\otlp\\proto\\http\\trace_exporter\\__init__.py\", line 174, in _export_serialized_spans\n",
      "    resp = self._export(serialized_data)\n",
      "  File \"c:\\Users\\rogerrsn\\AppData\\Local\\Programs\\Python\\Python310\\lib\\site-packages\\opentelemetry\\exporter\\otlp\\proto\\http\\trace_exporter\\__init__.py\", line 147, in _export\n",
      "    resp = self._session.post(\n",
      "  File \"c:\\Users\\rogerrsn\\AppData\\Local\\Programs\\Python\\Python310\\lib\\site-packages\\requests\\sessions.py\", line 637, in post\n",
      "    return self.request(\"POST\", url, data=data, json=json, **kwargs)\n",
      "  File \"c:\\Users\\rogerrsn\\AppData\\Local\\Programs\\Python\\Python310\\lib\\site-packages\\requests\\sessions.py\", line 589, in request\n",
      "    resp = self.send(prep, **send_kwargs)\n",
      "  File \"c:\\Users\\rogerrsn\\AppData\\Local\\Programs\\Python\\Python310\\lib\\site-packages\\requests\\sessions.py\", line 703, in send\n",
      "    r = adapter.send(request, **kwargs)\n",
      "  File \"c:\\Users\\rogerrsn\\AppData\\Local\\Programs\\Python\\Python310\\lib\\site-packages\\requests\\adapters.py\", line 700, in send\n",
      "    raise ConnectionError(e, request=request)\n",
      "requests.exceptions.ConnectionError: HTTPConnectionPool(host='localhost', port=3000): Max retries exceeded with url: /api/public/otel/v1/traces (Caused by NewConnectionError('<urllib3.connection.HTTPConnection object at 0x0000025FA0792740>: Failed to establish a new connection: [WinError 10061] No connection could be made because the target machine actively refused it'))\n"
     ]
    }
   ],
   "source": [
    "graph_result = run_experiment(question =  \"Is there a relationship between movie budget and gross income?\", dataset=movies_dataset)"
   ]
  },
  {
   "cell_type": "code",
   "execution_count": 178,
   "id": "16091bce",
   "metadata": {},
   "outputs": [
    {
     "data": {
      "text/plain": [
       "'vanna'"
      ]
     },
     "execution_count": 178,
     "metadata": {},
     "output_type": "execute_result"
    }
   ],
   "source": [
    "graph_result.get(\"best_vis_strategy\")"
   ]
  },
  {
   "cell_type": "code",
   "execution_count": 179,
   "id": "002b5657",
   "metadata": {},
   "outputs": [
    {
     "data": {
      "application/vnd.plotly.v1+json": {
       "config": {
        "plotlyServerURL": "https://plot.ly"
       },
       "data": [
        {
         "customdata": [
          [
           "Dragonheart",
           1996
          ],
          [
           "The Hunchback of Notre Dame",
           1996
          ],
          [
           "Independence Day",
           1996
          ],
          [
           "The Adventures of Pinocchio",
           1996
          ],
          [
           "The Island of Dr. Moreau",
           1996
          ],
          [
           "Men in Black",
           1997
          ],
          [
           "Lost In Space",
           1998
          ],
          [
           "Deep Impact",
           1998
          ],
          [
           "Armageddon",
           1998
          ],
          [
           "The Mask of Zorro",
           1998
          ],
          [
           "Antz",
           1998
          ],
          [
           "A Bug's Life",
           1998
          ],
          [
           "Babe: Pig in the City",
           1998
          ],
          [
           "The Prince of Egypt",
           1998
          ],
          [
           "The Mummy",
           1999
          ],
          [
           "Tarzan",
           1999
          ],
          [
           "Wild Wild West",
           1999
          ],
          [
           "The Iron Giant",
           1999
          ],
          [
           "Toy Story 2",
           1999
          ],
          [
           "Mission to Mars",
           2000
          ],
          [
           "The Road to El Dorado",
           2000
          ],
          [
           "Titan A.E.",
           2000
          ],
          [
           "Chicken Run",
           2000
          ],
          [
           "Space Cowboys",
           2000
          ],
          [
           "Charlie's Angels",
           2000
          ],
          [
           "The Emperor's New Groove",
           2000
          ],
          [
           "Spy Kids",
           2001
          ],
          [
           "Crocodile Dundee in Los Angeles",
           2001
          ],
          [
           "The Mummy Returns",
           2001
          ],
          [
           "Shrek",
           2001
          ],
          [
           "Planet of the Apes",
           2001
          ],
          [
           "The Musketeer",
           2001
          ],
          [
           "Monsters, Inc.",
           2001
          ],
          [
           "Ice Age",
           2002
          ],
          [
           "Clockstoppers",
           2002
          ],
          [
           "Spider-Man",
           2002
          ],
          [
           "Harry Potter and the Chamber of Secrets",
           2002
          ],
          [
           "Shanghai Knights",
           2003
          ],
          [
           "Finding Nemo",
           2003
          ],
          [
           "The Italian Job",
           2003
          ],
          [
           "The League of Extraordinary Gentlemen",
           2003
          ],
          [
           "Master and Commander: The Far Side of the World",
           2003
          ],
          [
           "Peter Pan",
           2003
          ],
          [
           "Shrek 2",
           2004
          ],
          [
           "The Day After Tomorrow",
           2004
          ],
          [
           "Harry Potter and the Prisoner of Azkaban",
           2004
          ],
          [
           "The Chronicles of Riddick",
           2004
          ],
          [
           "Around the World in 80 Days",
           2004
          ],
          [
           "Spider-Man 2",
           2004
          ],
          [
           "King Arthur",
           2004
          ],
          [
           "Shark Tale",
           2004
          ],
          [
           "The Incredibles",
           2004
          ],
          [
           "The Polar Express",
           2004
          ],
          [
           "National Treasure",
           2004
          ],
          [
           "Alexander",
           2004
          ],
          [
           "Ocean's Twelve",
           2004
          ],
          [
           "Robots",
           2005
          ],
          [
           "Madagascar",
           2005
          ],
          [
           "Wallace & Gromit: The Curse of the Were-Rabbit",
           2005
          ],
          [
           "The Legend of Zorro",
           2005
          ],
          [
           "Chicken Little",
           2005
          ],
          [
           "Harry Potter and the Goblet of Fire",
           2005
          ],
          [
           "King Kong",
           2005
          ],
          [
           "Superman Returns",
           2006
          ],
          [
           "Pirates of the Caribbean: Dead Man's Chest",
           2006
          ],
          [
           "Happy Feet",
           2006
          ],
          [
           "Apocalypto",
           2006
          ],
          [
           "Spider-Man 3",
           2007
          ],
          [
           "Pirates of the Caribbean: At World's End",
           2007
          ],
          [
           "Ocean's Thirteen",
           2007
          ],
          [
           "Harry Potter and the Order of the Phoenix",
           2007
          ],
          [
           "Stardust",
           2007
          ],
          [
           "Beowulf",
           2007
          ],
          [
           "The Incredible Hulk",
           2008
          ],
          [
           "The Mummy: Tomb of the Dragon Emperor",
           2008
          ],
          [
           "City of Ember",
           2008
          ],
          [
           "The Tale of Despereaux",
           2008
          ],
          [
           "Inkheart",
           2009
          ],
          [
           "Monsters vs. Aliens",
           2009
          ],
          [
           "Up",
           2009
          ],
          [
           "Harry Potter and the Half-Blood Prince",
           2009
          ],
          [
           "Where the Wild Things Are",
           2009
          ],
          [
           "The Imaginarium of Doctor Parnassus",
           2009
          ]
         ],
         "hovertemplate": "Production Budget ($)=%{x}<br>Worldwide Gross ($)=%{y}<br>Title=%{customdata[0]}<br>Release Year=%{customdata[1]}<extra></extra>",
         "legendgroup": "",
         "marker": {
          "color": "#000001",
          "symbol": "circle"
         },
         "mode": "markers",
         "name": "",
         "orientation": "v",
         "showlegend": false,
         "type": "scatter",
         "x": [
          57000000,
          100000000,
          75000000,
          25000000,
          40000000,
          90000000,
          80000000,
          80000000,
          140000000,
          65000000,
          60000000,
          45000000,
          80000000,
          60000000,
          80000000,
          145000000,
          175000000,
          50000000,
          90000000,
          90000000,
          95000000,
          75000000,
          42000000,
          65000000,
          90000000,
          100000000,
          35000000,
          25000000,
          98000000,
          50000000,
          100000000,
          40000000,
          115000000,
          65000000,
          26000000,
          139000000,
          100000000,
          50000000,
          94000000,
          60000000,
          78000000,
          135000000,
          100000000,
          70000000,
          125000000,
          130000000,
          120000000,
          110000000,
          200000000,
          90000000,
          75000000,
          92000000,
          170000000,
          100000000,
          155000000,
          85000000,
          80000000,
          75000000,
          30000000,
          80000000,
          60000000,
          150000000,
          207000000,
          232000000,
          225000000,
          85000000,
          40000000,
          258000000,
          300000000,
          85000000,
          150000000,
          70000000,
          150000000,
          137500000,
          175000000,
          38000000,
          60000000,
          60000000,
          175000000,
          175000000,
          250000000,
          100000000,
          30000000
         ],
         "xaxis": "x",
         "y": [
          104364680,
          325500000,
          817400878,
          36682170,
          27682712,
          587790539,
          136117629,
          349464664,
          554600000,
          233700000,
          152457863,
          363109485,
          69131860,
          218600000,
          416385488,
          448191819,
          222105681,
          31333917,
          484966906,
          106000000,
          65700000,
          36751979,
          227793915,
          128874043,
          263200000,
          169296573,
          197692062,
          39393111,
          433007640,
          484399218,
          362211740,
          27053815,
          526864330,
          383257136,
          38788828,
          821708551,
          878987880,
          60470220,
          867894287,
          175826012,
          179265204,
          209486484,
          95255485,
          919838758,
          544272402,
          795538952,
          107212751,
          72004159,
          783705001,
          203877963,
          367275019,
          632882184,
          305420597,
          347405002,
          167297191,
          363531634,
          260700012,
          532680671,
          185724838,
          141475336,
          314432738,
          896013036,
          550517357,
          391120000,
          1065659812,
          385000317,
          117785051,
          890871626,
          960996492,
          311744465,
          938468864,
          135556675,
          194995215,
          263349257,
          397912118,
          11817059,
          88717945,
          58051454,
          381687380,
          731304609,
          937499905,
          99123656,
          58692979
         ],
         "yaxis": "y"
        }
       ],
       "layout": {
        "legend": {
         "tracegroupgap": 0
        },
        "template": {
         "data": {
          "candlestick": [
           {
            "decreasing": {
             "line": {
              "color": "#000033"
             }
            },
            "increasing": {
             "line": {
              "color": "#000032"
             }
            },
            "type": "candlestick"
           }
          ],
          "contour": [
           {
            "colorscale": [
             [
              0,
              "#000011"
             ],
             [
              0.1111111111111111,
              "#000012"
             ],
             [
              0.2222222222222222,
              "#000013"
             ],
             [
              0.3333333333333333,
              "#000014"
             ],
             [
              0.4444444444444444,
              "#000015"
             ],
             [
              0.5555555555555556,
              "#000016"
             ],
             [
              0.6666666666666666,
              "#000017"
             ],
             [
              0.7777777777777778,
              "#000018"
             ],
             [
              0.8888888888888888,
              "#000019"
             ],
             [
              1,
              "#000020"
             ]
            ],
            "type": "contour"
           }
          ],
          "contourcarpet": [
           {
            "colorscale": [
             [
              0,
              "#000011"
             ],
             [
              0.1111111111111111,
              "#000012"
             ],
             [
              0.2222222222222222,
              "#000013"
             ],
             [
              0.3333333333333333,
              "#000014"
             ],
             [
              0.4444444444444444,
              "#000015"
             ],
             [
              0.5555555555555556,
              "#000016"
             ],
             [
              0.6666666666666666,
              "#000017"
             ],
             [
              0.7777777777777778,
              "#000018"
             ],
             [
              0.8888888888888888,
              "#000019"
             ],
             [
              1,
              "#000020"
             ]
            ],
            "type": "contourcarpet"
           }
          ],
          "heatmap": [
           {
            "colorscale": [
             [
              0,
              "#000011"
             ],
             [
              0.1111111111111111,
              "#000012"
             ],
             [
              0.2222222222222222,
              "#000013"
             ],
             [
              0.3333333333333333,
              "#000014"
             ],
             [
              0.4444444444444444,
              "#000015"
             ],
             [
              0.5555555555555556,
              "#000016"
             ],
             [
              0.6666666666666666,
              "#000017"
             ],
             [
              0.7777777777777778,
              "#000018"
             ],
             [
              0.8888888888888888,
              "#000019"
             ],
             [
              1,
              "#000020"
             ]
            ],
            "type": "heatmap"
           }
          ],
          "histogram2d": [
           {
            "colorscale": [
             [
              0,
              "#000011"
             ],
             [
              0.1111111111111111,
              "#000012"
             ],
             [
              0.2222222222222222,
              "#000013"
             ],
             [
              0.3333333333333333,
              "#000014"
             ],
             [
              0.4444444444444444,
              "#000015"
             ],
             [
              0.5555555555555556,
              "#000016"
             ],
             [
              0.6666666666666666,
              "#000017"
             ],
             [
              0.7777777777777778,
              "#000018"
             ],
             [
              0.8888888888888888,
              "#000019"
             ],
             [
              1,
              "#000020"
             ]
            ],
            "type": "histogram2d"
           }
          ],
          "icicle": [
           {
            "textfont": {
             "color": "white"
            },
            "type": "icicle"
           }
          ],
          "sankey": [
           {
            "textfont": {
             "color": "#000036"
            },
            "type": "sankey"
           }
          ],
          "scatter": [
           {
            "marker": {
             "line": {
              "width": 0
             }
            },
            "type": "scatter"
           }
          ],
          "table": [
           {
            "cells": {
             "fill": {
              "color": "#000038"
             },
             "font": {
              "color": "#000037"
             },
             "line": {
              "color": "#000039"
             }
            },
            "header": {
             "fill": {
              "color": "#000040"
             },
             "font": {
              "color": "#000036"
             },
             "line": {
              "color": "#000039"
             }
            },
            "type": "table"
           }
          ],
          "waterfall": [
           {
            "connector": {
             "line": {
              "color": "#000036",
              "width": 2
             }
            },
            "decreasing": {
             "marker": {
              "color": "#000033"
             }
            },
            "increasing": {
             "marker": {
              "color": "#000032"
             }
            },
            "totals": {
             "marker": {
              "color": "#000034"
             }
            },
            "type": "waterfall"
           }
          ]
         },
         "layout": {
          "coloraxis": {
           "colorscale": [
            [
             0,
             "#000011"
            ],
            [
             0.1111111111111111,
             "#000012"
            ],
            [
             0.2222222222222222,
             "#000013"
            ],
            [
             0.3333333333333333,
             "#000014"
            ],
            [
             0.4444444444444444,
             "#000015"
            ],
            [
             0.5555555555555556,
             "#000016"
            ],
            [
             0.6666666666666666,
             "#000017"
            ],
            [
             0.7777777777777778,
             "#000018"
            ],
            [
             0.8888888888888888,
             "#000019"
            ],
            [
             1,
             "#000020"
            ]
           ]
          },
          "colorscale": {
           "diverging": [
            [
             0,
             "#000021"
            ],
            [
             0.1,
             "#000022"
            ],
            [
             0.2,
             "#000023"
            ],
            [
             0.3,
             "#000024"
            ],
            [
             0.4,
             "#000025"
            ],
            [
             0.5,
             "#000026"
            ],
            [
             0.6,
             "#000027"
            ],
            [
             0.7,
             "#000028"
            ],
            [
             0.8,
             "#000029"
            ],
            [
             0.9,
             "#000030"
            ],
            [
             1,
             "#000031"
            ]
           ],
           "sequential": [
            [
             0,
             "#000011"
            ],
            [
             0.1111111111111111,
             "#000012"
            ],
            [
             0.2222222222222222,
             "#000013"
            ],
            [
             0.3333333333333333,
             "#000014"
            ],
            [
             0.4444444444444444,
             "#000015"
            ],
            [
             0.5555555555555556,
             "#000016"
            ],
            [
             0.6666666666666666,
             "#000017"
            ],
            [
             0.7777777777777778,
             "#000018"
            ],
            [
             0.8888888888888888,
             "#000019"
            ],
            [
             1,
             "#000020"
            ]
           ],
           "sequentialminus": [
            [
             0,
             "#000011"
            ],
            [
             0.1111111111111111,
             "#000012"
            ],
            [
             0.2222222222222222,
             "#000013"
            ],
            [
             0.3333333333333333,
             "#000014"
            ],
            [
             0.4444444444444444,
             "#000015"
            ],
            [
             0.5555555555555556,
             "#000016"
            ],
            [
             0.6666666666666666,
             "#000017"
            ],
            [
             0.7777777777777778,
             "#000018"
            ],
            [
             0.8888888888888888,
             "#000019"
            ],
            [
             1,
             "#000020"
            ]
           ]
          },
          "colorway": [
           "#000001",
           "#000002",
           "#000003",
           "#000004",
           "#000005",
           "#000006",
           "#000007",
           "#000008",
           "#000009",
           "#000010"
          ]
         }
        },
        "title": {
         "text": "Correlation between Movie Budgets and Gross Income (Adventure Genre)"
        },
        "xaxis": {
         "anchor": "y",
         "domain": [
          0,
          1
         ],
         "title": {
          "text": "Production Budget ($)"
         }
        },
        "yaxis": {
         "anchor": "x",
         "domain": [
          0,
          1
         ],
         "title": {
          "text": "Worldwide Gross ($)"
         }
        }
       }
      }
     },
     "metadata": {},
     "output_type": "display_data"
    }
   ],
   "source": [
    "graph_result.get(\"codes\")[graph_result.get(\"best_vis_strategy\")].get(\"fig\")"
   ]
  }
 ],
 "metadata": {
  "kernelspec": {
   "display_name": "Python 3",
   "language": "python",
   "name": "python3"
  },
  "language_info": {
   "codemirror_mode": {
    "name": "ipython",
    "version": 3
   },
   "file_extension": ".py",
   "mimetype": "text/x-python",
   "name": "python",
   "nbconvert_exporter": "python",
   "pygments_lexer": "ipython3",
   "version": "3.10.7"
  }
 },
 "nbformat": 4,
 "nbformat_minor": 5
}
